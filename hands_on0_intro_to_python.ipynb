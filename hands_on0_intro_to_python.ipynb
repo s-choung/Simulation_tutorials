{
  "nbformat": 4,
  "nbformat_minor": 0,
  "metadata": {
    "colab": {
      "provenance": [],
      "authorship_tag": "ABX9TyOgGrj3Afw1d70TlRp20iN7",
      "include_colab_link": true
    },
    "kernelspec": {
      "name": "python3",
      "display_name": "Python 3"
    },
    "language_info": {
      "name": "python"
    }
  },
  "cells": [
    {
      "cell_type": "markdown",
      "metadata": {
        "id": "view-in-github",
        "colab_type": "text"
      },
      "source": [
        "<a href=\"https://colab.research.google.com/github/s-choung/Simulation_tutorials/blob/main/hands_on0_intro_to_python.ipynb\" target=\"_parent\"><img src=\"https://colab.research.google.com/assets/colab-badge.svg\" alt=\"Open In Colab\"/></a>"
      ]
    },
    {
      "cell_type": "code",
      "execution_count": 1,
      "metadata": {
        "colab": {
          "base_uri": "https://localhost:8080/"
        },
        "id": "FkL1pWU0I_Dn",
        "outputId": "64b4c752-b560-4d5f-9816-77d9c36f2c18"
      },
      "outputs": [
        {
          "output_type": "stream",
          "name": "stdout",
          "text": [
            "Hello world\n"
          ]
        }
      ],
      "source": [
        "print ('Hello world')"
      ]
    },
    {
      "cell_type": "code",
      "source": [
        "a = 2\n",
        "b = 1.5\n",
        "c = 'Coding'\n",
        "print (type(a))\n",
        "print (type(b))\n",
        "print (type(c))"
      ],
      "metadata": {
        "colab": {
          "base_uri": "https://localhost:8080/"
        },
        "id": "ZOoIBi42KPoI",
        "outputId": "9bac780d-6b60-47da-bddb-e84679cc6429"
      },
      "execution_count": 2,
      "outputs": [
        {
          "output_type": "stream",
          "name": "stdout",
          "text": [
            "<class 'int'>\n",
            "<class 'float'>\n",
            "<class 'str'>\n"
          ]
        }
      ]
    },
    {
      "cell_type": "code",
      "source": [
        "a = 2\n",
        "b = 4\n",
        "print (a+b)\n",
        "print (a-b)\n",
        "print (a*b)\n",
        "print (a/b)\n",
        "a = 2 / 3\n",
        "print(a)"
      ],
      "metadata": {
        "colab": {
          "base_uri": "https://localhost:8080/"
        },
        "id": "lR8ajX9GKY2U",
        "outputId": "b46bfdd1-570a-402e-c9ab-192f88e1a657"
      },
      "execution_count": 12,
      "outputs": [
        {
          "output_type": "stream",
          "name": "stdout",
          "text": [
            "6\n",
            "-2\n",
            "8\n",
            "0.5\n",
            "0.6666666666666666\n"
          ]
        }
      ]
    },
    {
      "cell_type": "code",
      "source": [
        "volume = 10.0  # L\n",
        "flowrate = 4.0  # L/s\n",
        "tau = volume / flowrate\n",
        "print(f'The residence time is {tau:1.2f} seconds.')"
      ],
      "metadata": {
        "colab": {
          "base_uri": "https://localhost:8080/"
        },
        "id": "ET1s6GkVLHrU",
        "outputId": "1e0865ee-ea9d-41f8-d627-9f341941b3a7"
      },
      "execution_count": 13,
      "outputs": [
        {
          "output_type": "stream",
          "name": "stdout",
          "text": [
            "The residence time is 2.50 seconds.\n"
          ]
        }
      ]
    },
    {
      "cell_type": "code",
      "source": [
        "print (round(3.141592,2))"
      ],
      "metadata": {
        "colab": {
          "base_uri": "https://localhost:8080/"
        },
        "id": "8Xqks1omKau6",
        "outputId": "97e93cb7-9add-40a3-df49-465c717b0c59"
      },
      "execution_count": 4,
      "outputs": [
        {
          "output_type": "stream",
          "name": "stdout",
          "text": [
            "3.14\n"
          ]
        }
      ]
    },
    {
      "cell_type": "code",
      "source": [
        "a = [1,2,3,4,5] # example array\n",
        "for i in a:     # i is a temporary variable\n",
        "  print (i, i*2) # printing the array element, array element multiplied by 2 simultaneously"
      ],
      "metadata": {
        "colab": {
          "base_uri": "https://localhost:8080/"
        },
        "id": "Us506z4WKfxr",
        "outputId": "6598e372-c2ab-4d96-d241-36b6dbd7a164"
      },
      "execution_count": 5,
      "outputs": [
        {
          "output_type": "stream",
          "name": "stdout",
          "text": [
            "1 2\n",
            "2 4\n",
            "3 6\n",
            "4 8\n",
            "5 10\n"
          ]
        }
      ]
    },
    {
      "cell_type": "code",
      "source": [
        "import numpy as np # importing numpy\n",
        "a = np.array([1,2,3,4,5])\n",
        "print ('Avegage', np.mean(a))\n",
        "print ('Maximum',np.max(a))\n",
        "print ('Minimum',np.min(a))"
      ],
      "metadata": {
        "colab": {
          "base_uri": "https://localhost:8080/"
        },
        "id": "XicdlC6XKjsS",
        "outputId": "f85fe5ad-a58d-4455-e1fa-e4f9e8c60b34"
      },
      "execution_count": 6,
      "outputs": [
        {
          "output_type": "stream",
          "name": "stdout",
          "text": [
            "Avegage 3.0\n",
            "Maximum 5\n",
            "Minimum 1\n"
          ]
        }
      ]
    },
    {
      "cell_type": "code",
      "source": [
        "x = [1,2,3,4,5]\n",
        "y = [2,4,6,8,10]\n",
        "import matplotlib\n",
        "# % is a magic command for notebooks\n",
        "# pyplot is a long name so let's call it plt using 'as'\n",
        "import matplotlib.pyplot as plt\n",
        "plt.plot(x,y,'o') #o is a marker, you can use 's', '^ etc.\n",
        "plt.xlabel('X')\n",
        "plt.ylabel('Y')"
      ],
      "metadata": {
        "colab": {
          "base_uri": "https://localhost:8080/",
          "height": 466
        },
        "id": "xfqUn623KmAa",
        "outputId": "30bceb08-b937-430d-f1a0-95b5691b3bb9"
      },
      "execution_count": 8,
      "outputs": [
        {
          "output_type": "execute_result",
          "data": {
            "text/plain": [
              "Text(0, 0.5, 'Y')"
            ]
          },
          "metadata": {},
          "execution_count": 8
        },
        {
          "output_type": "display_data",
          "data": {
            "text/plain": [
              "<Figure size 640x480 with 1 Axes>"
            ],
            "image/png": "[encoded data removed]"
          },
          "metadata": {}
        }
      ]
    },
    {
      "cell_type": "code",
      "source": [
        "import matplotlib.pyplot as plt\n",
        "\n",
        "plt.plot([1, 2, 4, 8])\n",
        "plt.xlabel('x')\n",
        "plt.ylabel(r'$\\int_a^b f_x dx \\neq 1$')"
      ],
      "metadata": {
        "colab": {
          "base_uri": "https://localhost:8080/",
          "height": 466
        },
        "id": "kj0Zjn9cK1A-",
        "outputId": "e9607898-2d9f-4b2c-abfc-7e781878b4ca"
      },
      "execution_count": 11,
      "outputs": [
        {
          "output_type": "execute_result",
          "data": {
            "text/plain": [
              "Text(0, 0.5, '$\\\\int_a^b f_x dx \\\\neq 1$')"
            ]
          },
          "metadata": {},
          "execution_count": 11
        },
        {
          "output_type": "display_data",
          "data": {
            "text/plain": [
              "<Figure size 640x480 with 1 Axes>"
            ],
            "image/png": "[encoded data removed]"
          },
          "metadata": {}
        }
      ]
    },
    {
      "cell_type": "code",
      "source": [
        "def add_two_numbers(a='',b=''):\n",
        "  \"\"\"\n",
        "  Args:\n",
        "      a,b: input value, integer/float\n",
        "  Returns:\n",
        "         sum: sum of a and b , integer/float\n",
        "  \"\"\"\n",
        "  sum = a+b\n",
        "  return sum"
      ],
      "metadata": {
        "id": "DsoAOjpmKo2u"
      },
      "execution_count": 9,
      "outputs": []
    },
    {
      "cell_type": "code",
      "source": [
        "add_two_numbers(a=2,b=3)"
      ],
      "metadata": {
        "colab": {
          "base_uri": "https://localhost:8080/"
        },
        "id": "y3s_mo4KKuxh",
        "outputId": "ad9032ad-da25-4396-b896-56a31ff663c2"
      },
      "execution_count": 10,
      "outputs": [
        {
          "output_type": "execute_result",
          "data": {
            "text/plain": [
              "5"
            ]
          },
          "metadata": {},
          "execution_count": 10
        }
      ]
    }
  ]
}