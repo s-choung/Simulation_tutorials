{
  "nbformat": 4,
  "nbformat_minor": 0,
  "metadata": {
    "colab": {
      "provenance": [],
      "authorship_tag": "ABX9TyN+mLcpk1MyMBN+7uFfYWNg",
      "include_colab_link": true
    },
    "kernelspec": {
      "name": "python3",
      "display_name": "Python 3"
    },
    "language_info": {
      "name": "python"
    }
  },
  "cells": [
    {
      "cell_type": "markdown",
      "metadata": {
        "id": "view-in-github",
        "colab_type": "text"
      },
      "source": [
        "<a href=\"https://colab.research.google.com/github/s-choung/Simulation_tutorials/blob/main/handson2_dft_surface.ipynb\" target=\"_parent\"><img src=\"https://colab.research.google.com/assets/colab-badge.svg\" alt=\"Open In Colab\"/></a>"
      ]
    },
    {
      "cell_type": "markdown",
      "source": [
        "## Get GPAW as we did last session\n",
        "- GPAW(+dependencies+ASE)\n",
        "- POVRAY"
      ],
      "metadata": {
        "id": "H8FGv9J7gcc9"
      }
    },
    {
      "cell_type": "code",
      "execution_count": 2,
      "metadata": {
        "id": "AAlmTWYsgXeR",
        "colab": {
          "base_uri": "https://localhost:8080/",
          "height": 1000
        },
        "outputId": "3c91a799-0861-4c67-b209-928b74638362"
      },
      "outputs": [
        {
          "output_type": "stream",
          "name": "stdout",
          "text": [
            "\r0% [Working]\r            \rHit:1 https://cloud.r-project.org/bin/linux/ubuntu jammy-cran40/ InRelease\n",
            "Hit:2 https://developer.download.nvidia.com/compute/cuda/repos/ubuntu2204/x86_64  InRelease\n",
            "Hit:3 http://security.ubuntu.com/ubuntu jammy-security InRelease\n",
            "Hit:4 http://archive.ubuntu.com/ubuntu jammy InRelease\n",
            "Ign:5 https://r2u.stat.illinois.edu/ubuntu jammy InRelease\n",
            "Hit:6 http://archive.ubuntu.com/ubuntu jammy-updates InRelease\n",
            "Hit:7 https://r2u.stat.illinois.edu/ubuntu jammy Release\n",
            "Hit:8 http://archive.ubuntu.com/ubuntu jammy-backports InRelease\n",
            "Hit:9 https://ppa.launchpadcontent.net/deadsnakes/ppa/ubuntu jammy InRelease\n",
            "Hit:10 https://ppa.launchpadcontent.net/graphics-drivers/ppa/ubuntu jammy InRelease\n",
            "Hit:12 https://ppa.launchpadcontent.net/ubuntugis/ppa/ubuntu jammy InRelease\n",
            "Reading package lists... Done\n",
            "W: Skipping acquire of configured file 'main/source/Sources' as repository 'https://r2u.stat.illinois.edu/ubuntu jammy InRelease' does not seem to provide it (sources.list entry misspelt?)\n",
            "Reading package lists... Done\n",
            "Building dependency tree... Done\n",
            "Reading state information... Done\n",
            "libfftw3-dev is already the newest version (3.3.8-2ubuntu8).\n",
            "liblapack-dev is already the newest version (3.10.0-2ubuntu1).\n",
            "libopenblas-dev is already the newest version (0.3.20+ds-1).\n",
            "libxc-dev is already the newest version (5.1.7-1ubuntu1).\n",
            "python3-dev is already the newest version (3.10.6-1~22.04.1).\n",
            "0 upgraded, 0 newly installed, 0 to remove and 56 not upgraded.\n",
            "Requirement already satisfied: gpaw in /usr/local/lib/python3.10/dist-packages (24.6.0)\n",
            "Requirement already satisfied: ase>=3.23.0 in /usr/local/lib/python3.10/dist-packages (from gpaw) (3.23.0)\n",
            "Requirement already satisfied: numpy<2 in /usr/local/lib/python3.10/dist-packages (from gpaw) (1.26.4)\n",
            "Requirement already satisfied: scipy>=1.6.0 in /usr/local/lib/python3.10/dist-packages (from gpaw) (1.13.1)\n",
            "Requirement already satisfied: matplotlib>=3.3.4 in /usr/local/lib/python3.10/dist-packages (from ase>=3.23.0->gpaw) (3.7.1)\n",
            "Requirement already satisfied: contourpy>=1.0.1 in /usr/local/lib/python3.10/dist-packages (from matplotlib>=3.3.4->ase>=3.23.0->gpaw) (1.3.0)\n",
            "Requirement already satisfied: cycler>=0.10 in /usr/local/lib/python3.10/dist-packages (from matplotlib>=3.3.4->ase>=3.23.0->gpaw) (0.12.1)\n",
            "Requirement already satisfied: fonttools>=4.22.0 in /usr/local/lib/python3.10/dist-packages (from matplotlib>=3.3.4->ase>=3.23.0->gpaw) (4.53.1)\n",
            "Requirement already satisfied: kiwisolver>=1.0.1 in /usr/local/lib/python3.10/dist-packages (from matplotlib>=3.3.4->ase>=3.23.0->gpaw) (1.4.7)\n",
            "Requirement already satisfied: packaging>=20.0 in /usr/local/lib/python3.10/dist-packages (from matplotlib>=3.3.4->ase>=3.23.0->gpaw) (24.1)\n",
            "Requirement already satisfied: pillow>=6.2.0 in /usr/local/lib/python3.10/dist-packages (from matplotlib>=3.3.4->ase>=3.23.0->gpaw) (10.4.0)\n",
            "Requirement already satisfied: pyparsing>=2.3.1 in /usr/local/lib/python3.10/dist-packages (from matplotlib>=3.3.4->ase>=3.23.0->gpaw) (3.1.4)\n",
            "Requirement already satisfied: python-dateutil>=2.7 in /usr/local/lib/python3.10/dist-packages (from matplotlib>=3.3.4->ase>=3.23.0->gpaw) (2.8.2)\n",
            "Requirement already satisfied: six>=1.5 in /usr/local/lib/python3.10/dist-packages (from python-dateutil>=2.7->matplotlib>=3.3.4->ase>=3.23.0->gpaw) (1.16.0)\n",
            " -------------------------------------------------------------------------------------------------\n",
            "| python-3.10.12    /usr/bin/python3                                                              |\n",
            "| gpaw-24.6.0       /usr/local/lib/python3.10/dist-packages/gpaw/                                 |\n",
            "| ase-3.23.0        /usr/local/lib/python3.10/dist-packages/ase/                                  |\n",
            "| numpy-1.26.4      /usr/local/lib/python3.10/dist-packages/numpy/                                |\n",
            "| scipy-1.13.1      /usr/local/lib/python3.10/dist-packages/scipy/                                |\n",
            "| libxc-5.1.7       yes                                                                           |\n",
            "| _gpaw             /usr/local/lib/python3.10/dist-packages/_gpaw.cpython-310-x86_64-linux-gnu.so |\n",
            "| MPI enabled       yes                                                                           |\n",
            "| OpenMP enabled    no                                                                            |\n",
            "| GPU enabled       no                                                                            |\n",
            "| GPU-aware MPI     no                                                                            |\n",
            "| CUPY              /usr/local/lib/python3.10/dist-packages/gpaw/gpu/cpupy/__init__.py            |\n",
            "| scalapack         no                                                                            |\n",
            "| Elpa              no                                                                            |\n",
            "| FFTW              no                                                                            |\n",
            "| libvdwxc          no                                                                            |\n",
            "| PAW-datasets (1)  /usr/local/share/gpaw-setups                                                  |\n",
            "| PAW-datasets (2)  /usr/share/gpaw-setups                                                        |\n",
            " -------------------------------------------------------------------------------------------------\n",
            "Could not find any atomic PAW-data or pseudopotentials!\n",
            "\n",
            "You need to set the GPAW_SETUP_PATH environment variable to point to\n",
            "the directories where PAW dataset and basis files are stored.  See\n",
            "https://wiki.fysik.dtu.dk/gpaw/install.html#install-paw-datasets\n",
            "for details.\n",
            "--2024-09-24 03:10:32--  https://wiki.fysik.dtu.dk/gpaw-files/gpaw-setups-24.1.0.tar.gz\n",
            "Resolving wiki.fysik.dtu.dk (wiki.fysik.dtu.dk)... 130.225.86.27\n",
            "Connecting to wiki.fysik.dtu.dk (wiki.fysik.dtu.dk)|130.225.86.27|:443... connected.\n",
            "HTTP request sent, awaiting response... 200 OK\n",
            "Length: 53598132 (51M) [application/x-gzip]\n",
            "Saving to: ‘gpaw-setups-24.1.0.tar.gz’\n",
            "\n",
            "gpaw-setups-24.1.0. 100%[===================>]  51.11M  16.2MB/s    in 3.3s    \n",
            "\n",
            "2024-09-24 03:10:36 (15.5 MB/s) - ‘gpaw-setups-24.1.0.tar.gz’ saved [53598132/53598132]\n",
            "\n",
            "GPAW_SETUP_PATH: /content/gpaw-setups-24.1.0\n",
            "Forces on atoms: [[ 3.16912956e-31  0.00000000e+00 -8.85932373e-01]\n",
            " [ 0.00000000e+00  1.58456478e-31  8.85932373e-01]]\n",
            "Energies on atoms: -6.649519518868386\n",
            "Reading package lists... Done\n",
            "Building dependency tree... Done\n",
            "Reading state information... Done\n",
            "The following additional packages will be installed:\n",
            "  fonts-povray libsdl1.2debian povray-includes\n",
            "Suggested packages:\n",
            "  povray-doc povray-examples\n",
            "The following NEW packages will be installed:\n",
            "  fonts-povray libsdl1.2debian povray povray-includes\n",
            "0 upgraded, 4 newly installed, 0 to remove and 56 not upgraded.\n",
            "Need to get 1,792 kB of archives.\n",
            "After this operation, 5,199 kB of additional disk space will be used.\n",
            "Get:1 http://archive.ubuntu.com/ubuntu jammy/universe amd64 fonts-povray all 1:3.7.0.10-1 [70.0 kB]\n",
            "Get:2 http://archive.ubuntu.com/ubuntu jammy/universe amd64 libsdl1.2debian amd64 1.2.15+dfsg2-6 [177 kB]\n",
            "Get:3 http://archive.ubuntu.com/ubuntu jammy/universe amd64 povray amd64 1:3.7.0.10-1 [1,312 kB]\n",
            "Get:4 http://archive.ubuntu.com/ubuntu jammy/universe amd64 povray-includes all 1:3.7.0.10-1 [233 kB]\n",
            "Fetched 1,792 kB in 2s (1,115 kB/s)\n",
            "debconf: unable to initialize frontend: Dialog\n",
            "debconf: (No usable dialog-like program is installed, so the dialog based frontend cannot be used. at /usr/share/perl5/Debconf/FrontEnd/Dialog.pm line 78, <> line 4.)\n",
            "debconf: falling back to frontend: Readline\n",
            "debconf: unable to initialize frontend: Readline\n",
            "debconf: (This frontend requires a controlling tty.)\n",
            "debconf: falling back to frontend: Teletype\n",
            "dpkg-preconfigure: unable to re-open stdin: \n",
            "Selecting previously unselected package fonts-povray.\n",
            "(Reading database ... 123740 files and directories currently installed.)\n",
            "Preparing to unpack .../fonts-povray_1%3a3.7.0.10-1_all.deb ...\n",
            "Unpacking fonts-povray (1:3.7.0.10-1) ...\n",
            "Selecting previously unselected package libsdl1.2debian:amd64.\n",
            "Preparing to unpack .../libsdl1.2debian_1.2.15+dfsg2-6_amd64.deb ...\n",
            "Unpacking libsdl1.2debian:amd64 (1.2.15+dfsg2-6) ...\n",
            "Selecting previously unselected package povray.\n",
            "Preparing to unpack .../povray_1%3a3.7.0.10-1_amd64.deb ...\n",
            "Unpacking povray (1:3.7.0.10-1) ...\n",
            "Selecting previously unselected package povray-includes.\n",
            "Preparing to unpack .../povray-includes_1%3a3.7.0.10-1_all.deb ...\n",
            "Unpacking povray-includes (1:3.7.0.10-1) ...\n",
            "Setting up libsdl1.2debian:amd64 (1.2.15+dfsg2-6) ...\n",
            "Setting up fonts-povray (1:3.7.0.10-1) ...\n",
            "Setting up povray (1:3.7.0.10-1) ...\n",
            "Setting up povray-includes (1:3.7.0.10-1) ...\n",
            "Processing triggers for libc-bin (2.35-0ubuntu3.4) ...\n",
            "/sbin/ldconfig.real: /usr/local/lib/libtbb.so.12 is not a symbolic link\n",
            "\n",
            "/sbin/ldconfig.real: /usr/local/lib/libur_loader.so.0 is not a symbolic link\n",
            "\n",
            "/sbin/ldconfig.real: /usr/local/lib/libur_adapter_opencl.so.0 is not a symbolic link\n",
            "\n",
            "/sbin/ldconfig.real: /usr/local/lib/libtbbbind.so.3 is not a symbolic link\n",
            "\n",
            "/sbin/ldconfig.real: /usr/local/lib/libtbbmalloc_proxy.so.2 is not a symbolic link\n",
            "\n",
            "/sbin/ldconfig.real: /usr/local/lib/libur_adapter_level_zero.so.0 is not a symbolic link\n",
            "\n",
            "/sbin/ldconfig.real: /usr/local/lib/libtbbmalloc.so.2 is not a symbolic link\n",
            "\n",
            "/sbin/ldconfig.real: /usr/local/lib/libtbbbind_2_0.so.3 is not a symbolic link\n",
            "\n",
            "/sbin/ldconfig.real: /usr/local/lib/libtbbbind_2_5.so.3 is not a symbolic link\n",
            "\n",
            "Processing triggers for man-db (2.10.2-1) ...\n",
            "Processing triggers for fontconfig (2.13.1-4.2ubuntu5) ...\n"
          ]
        },
        {
          "output_type": "display_data",
          "data": {
            "text/plain": [
              "<PIL.Image.Image image mode=RGBA size=200x400>"
            ],
            "image/png": "[encoded data removed]"
          },
          "metadata": {}
        }
      ],
      "source": [
        "!apt-get update\n",
        "!apt-get install -y python3-dev libopenblas-dev liblapack-dev libfftw3-dev libxc-dev\n",
        "!pip install gpaw\n",
        "!gpaw test\n",
        "!wget https://wiki.fysik.dtu.dk/gpaw-files/gpaw-setups-24.1.0.tar.gz\n",
        "!tar -xzf gpaw-setups-24.1.0.tar.gz\n",
        "\n",
        "import os\n",
        "import gzip\n",
        "import shutil\n",
        "\n",
        "# Define the path to the setup files\n",
        "setup_path = '/content/gpaw-setups-24.1.0'\n",
        "\n",
        "# Uncompress all .gz files in the setup directory\n",
        "for filename in os.listdir(setup_path):\n",
        "    if filename.endswith('.gz'):\n",
        "        filepath = os.path.join(setup_path, filename)\n",
        "        with gzip.open(filepath, 'rb') as f_in:\n",
        "            with open(filepath[:-3], 'wb') as f_out:\n",
        "                shutil.copyfileobj(f_in, f_out)\n",
        "\n",
        "# Set the GPAW_SETUP_PATH environment variable\n",
        "os.environ['GPAW_SETUP_PATH'] = setup_path\n",
        "# Verify the environment variable\n",
        "print(\"GPAW_SETUP_PATH:\", os.environ['GPAW_SETUP_PATH'])\n",
        "\n",
        "# Import ASE and GPAW and run your calculation\n",
        "from ase import Atoms\n",
        "from gpaw import GPAW\n",
        "\n",
        "# Define the atomic structure\n",
        "d = 0.74\n",
        "a = 10.0\n",
        "\n",
        "h2 = Atoms('H2',\n",
        "              positions=[(0, 0, 0),\n",
        "                         (0, 0, d)],\n",
        "              cell=(a, a, a))\n",
        "h2.center()\n",
        "# Initialize GPAW calculator without specifying the 'setups' parameter\n",
        "calc = GPAW(mode='fd', nbands=2, txt='h2.txt')\n",
        "h2.calc = calc\n",
        "\n",
        "# Run the calculation\n",
        "print(\"Forces on atoms:\", h2.get_forces())\n",
        "print(\"Energies on atoms:\", h2.get_total_energy())\n",
        "\n",
        "!sudo apt-get install povray  ## visulization program\n",
        "\n",
        "import shutil\n",
        "from ase.io import write  # Import the write function from ASE\n",
        "from PIL import Image\n",
        "from IPython.display import display  # Import display for Jupyter Notebooks\n",
        "\n",
        "\n",
        "def visual(structure, max_size=(200, 200), stretch_y=2.0, rotation='15z,-60x', png_save_path='./'):\n",
        "    renderer = write('./temp.pov', structure, rotation=rotation)\n",
        "    renderer.render()\n",
        "    image_path = './temp.png'\n",
        "    img = Image.open(image_path)\n",
        "\n",
        "    # Calculate new size with stretch factor\n",
        "    new_size = (max_size[0], int(max_size[1] * stretch_y))\n",
        "    img = img.resize(new_size, Image.LANCZOS)\n",
        "    display(img)\n",
        "\n",
        "    # Move files to output directory\n",
        "    files = ['./temp.ini', './temp.pov', './temp.png']\n",
        "    destination = './output/'\n",
        "\n",
        "    # Ensure destination directory exists\n",
        "    os.makedirs(destination, exist_ok=True)\n",
        "\n",
        "    for file in files:\n",
        "        # Remove the file in the destination directory if it exists\n",
        "        if os.path.isfile(os.path.join(destination, os.path.basename(file))):\n",
        "            os.remove(os.path.join(destination, os.path.basename(file)))\n",
        "\n",
        "        if file == './temp.png':\n",
        "            new_file_name = png_save_path + f'temp.png'\n",
        "        else:\n",
        "            new_file_name = os.path.basename(file)\n",
        "        shutil.move(file, os.path.join(destination, new_file_name))\n",
        "visual(h2)"
      ]
    },
    {
      "cell_type": "markdown",
      "source": [
        "## Lets make a catalyst surface using ase.build library"
      ],
      "metadata": {
        "id": "GOBMfKwFhHcT"
      }
    },
    {
      "cell_type": "markdown",
      "source": [
        "Type all the calculation setups defined in last hands-on session"
      ],
      "metadata": {
        "id": "mqE2DuiuH77E"
      }
    },
    {
      "cell_type": "code",
      "source": [
        "name = 'Al-fcc'\n",
        "a0 = 3.93  # fcc lattice parameter\n",
        "k = 4\n",
        "element='Al'"
      ],
      "metadata": {
        "id": "6P6e3cIIIIc_"
      },
      "execution_count": 39,
      "outputs": []
    },
    {
      "cell_type": "code",
      "source": [
        "\"\"\"Bulk Al(fcc) test\"\"\"\n",
        "from ase import Atoms\n",
        "from ase.visualize import view\n",
        "from gpaw import GPAW, PW\n",
        "from ase.build import bulk\n",
        "\n",
        "bulk = bulk(element, 'fcc', a=a0)\n",
        "calc = GPAW(mode=PW(300),       # cutoff\n",
        "            kpts=(k, k, k),     # k-points\n",
        "            txt=name + '.txt')  # output file\n",
        "\n",
        "bulk.calc = calc\n",
        "E_bulk = bulk.get_potential_energy()"
      ],
      "metadata": {
        "id": "iVAqhqRnH7WY"
      },
      "execution_count": 40,
      "outputs": []
    },
    {
      "cell_type": "code",
      "source": [
        "import time\n",
        "import numpy as np\n",
        "import matplotlib.pyplot as plt\n",
        "import pandas as pd\n",
        "from ase import Atoms\n",
        "from gpaw import GPAW, PW\n",
        "from ase.build import fcc100\n",
        "from ase.constraints import FixAtoms\n",
        "\n",
        "# Initialize the parameters\n",
        "N_layer = 4 # number of layers\n",
        "size = 1 #  supercell size\n",
        "vac = 7.5\n",
        "\n",
        "surf = fcc100(element, (size, size, N_layer), a=a0, vacuum=vac)\n",
        "#surf.center(axis=2)\n",
        "\n",
        "# Calculate the median z-position\n",
        "median_z = np.median(surf.positions[:, 2])\n",
        "\n",
        "# Apply the constraint to fix atoms below the median z position\n",
        "constraint = FixAtoms(mask=[atom.position[2] < (median_z + 0.01) for atom in surf])\n",
        "surf.set_constraint(constraint)\n",
        "\n",
        "# Set up the GPAW calculator\n",
        "calc = GPAW(mode=PW(300),\n",
        "            kpts=(k, k, 1),\n",
        "            txt='slab.txt')\n",
        "# Attach the calculator to the slab\n",
        "surf.calc = calc\n",
        "\n",
        "\n",
        "# Start timing\n",
        "start_time = time.time()\n",
        "\n",
        "# Run the calculation to get the potential energy\n",
        "e = surf.get_potential_energy()\n",
        "\n",
        "# End timing\n",
        "end_time = time.time()\n",
        "\n",
        "# Calculate the elapsed time\n",
        "elapsed_time = end_time - start_time\n",
        "print(\"Atomic numbers:\", surf.get_atomic_numbers())\n",
        "print(\"Chemical symbols:\", surf.get_chemical_symbols())\n",
        "print(\"Positions:\", surf.get_positions())\n",
        "# Print the energy and the elapsed time\n",
        "print(f'Potential Energy: {e} eV')\n",
        "print(f'Time taken: {elapsed_time:.2f} seconds')\n",
        "print(surf)\n",
        "visual(surf)\n",
        "\n",
        "# for a better view\n",
        "'''temp=surf.copy()\n",
        "temp=temp*(3,3,1)\n",
        "temp.cell=surf.cell\n",
        "visual(temp)'''"
      ],
      "metadata": {
        "colab": {
          "base_uri": "https://localhost:8080/",
          "height": 592
        },
        "id": "bsDmiIpLgsuk",
        "outputId": "70627a9d-8ab4-4a6d-d4dd-0ca981310882"
      },
      "execution_count": 41,
      "outputs": [
        {
          "output_type": "stream",
          "name": "stdout",
          "text": [
            "Atomic numbers: [13 13 13 13]\n",
            "Chemical symbols: ['Al', 'Al', 'Al', 'Al']\n",
            "Positions: [[ 1.38946483  1.38946483  7.5       ]\n",
            " [ 0.          0.          9.465     ]\n",
            " [ 1.38946483  1.38946483 11.43      ]\n",
            " [ 0.          0.         13.395     ]]\n",
            "Potential Energy: -15.725849825586872 eV\n",
            "Time taken: 9.24 seconds\n",
            "Atoms(symbols='Al4', pbc=[True, True, False], cell=[2.778929650063132, 2.778929650063132, 20.895], tags=..., constraint=FixAtoms(indices=[0, 1]), calculator=GPAW(...))\n"
          ]
        },
        {
          "output_type": "display_data",
          "data": {
            "text/plain": [
              "<PIL.Image.Image image mode=RGBA size=200x400>"
            ],
            "image/png": "[encoded data removed]"
          },
          "metadata": {}
        },
        {
          "output_type": "execute_result",
          "data": {
            "text/plain": [
              "'temp=surf.copy()\\ntemp=temp*(3,3,1)\\ntemp.cell=surf.cell\\nvisual(temp)'"
            ],
            "application/vnd.google.colaboratory.intrinsic+json": {
              "type": "string"
            }
          },
          "metadata": {},
          "execution_count": 41
        }
      ]
    },
    {
      "cell_type": "markdown",
      "source": [
        "lets calculate surface energy"
      ],
      "metadata": {
        "id": "-K91J4qyq0yS"
      }
    },
    {
      "cell_type": "code",
      "source": [
        "a1 = surf.get_cell()[0]  # First lattice vector (in the surface plane)\n",
        "a2 = surf.get_cell()[1]  # Second lattice vector (in the surface plane)\n",
        "# Calculate the surface area as the magnitude of the cross product\n",
        "A = np.linalg.norm(np.cross(a1, a2))\n",
        "E_slab= surf.get_potential_energy()\n",
        "n_atoms = len(surf)  # number of atoms in the slab\n",
        "surface_energy = (E_slab - n_atoms * E_bulk) / (2 * A)  # factor 2 for two surfaces\n",
        "print(f'surface energy: {round(surface_energy,3)} eV\\n')\n",
        "print(E_slab)\n",
        "print(E_bulk)\n",
        "print(n_atoms)\n"
      ],
      "metadata": {
        "colab": {
          "base_uri": "https://localhost:8080/"
        },
        "id": "ollhxiXzrrOz",
        "outputId": "939a5681-9d26-4949-b5e1-28e4f53a0d4d"
      },
      "execution_count": 42,
      "outputs": [
        {
          "output_type": "stream",
          "name": "stdout",
          "text": [
            "surface energy: 0.049 eV\n",
            "\n",
            "-15.725849825586872\n",
            "-4.1199472980112715\n",
            "4\n"
          ]
        }
      ]
    },
    {
      "cell_type": "markdown",
      "source": [
        "## 1. Testing different numbers of layers (2, 3, 4, 5, 6):\n"
      ],
      "metadata": {
        "id": "DrBsVA1so8nd"
      }
    },
    {
      "cell_type": "code",
      "source": [
        "import time\n",
        "import numpy as np\n",
        "from ase.build import fcc100\n",
        "from ase.constraints import FixAtoms\n",
        "from gpaw import GPAW, PW\n",
        "\n",
        "# Parameters\n",
        "a0 = 4  # lattice constant\n",
        "k = 1   # KPOINTS\n",
        "size = 1  # supercell size\n",
        "vac = 7.5  # vacuum size\n",
        "\n",
        "# Iterate over different number of layers\n",
        "for N_layer in range(2, 7):\n",
        "    surf = fcc100('Al', (size, size, N_layer), a=a0, vacuum=vac)\n",
        "    # Calculate the median z-position\n",
        "    median_z = np.median(surf.positions[:, 2])\n",
        "\n",
        "    # Apply constraint to fix bottom half of the slab\n",
        "    constraint = FixAtoms(mask=[atom.position[2] < (median_z + 0.01) for atom in surf])\n",
        "    surf.set_constraint(constraint) # advanced: you can play with the way you fix and relax number of layers\n",
        "\n",
        "    # Set up the GPAW calculator\n",
        "    calc = GPAW(mode=PW(300),\n",
        "                kpts=(k, k, 1),\n",
        "                txt=f'slab_{N_layer}_layers.txt')\n",
        "    surf.calc = calc\n",
        "\n",
        "    # Start timing\n",
        "    start_time = time.time()\n",
        "\n",
        "    # Run the calculation to get the potential energy\n",
        "    e = surf.get_potential_energy()\n",
        "\n",
        "    # End timing\n",
        "    elapsed_time = time.time() - start_time\n",
        "\n",
        "    # Print the results\n",
        "    print(f'Number of layers: {N_layer}')\n",
        "    print(f'Potential Energy: {e:.2f} eV')\n",
        "    print(f'Time taken: {elapsed_time:.2f} seconds')\n",
        "\n",
        "    a1 = surf.get_cell()[0]  # First lattice vector (in the surface plane)\n",
        "    a2 = surf.get_cell()[1]  # Second lattice vector (in the surface plane)\n",
        "    # Calculate the surface area as the magnitude of the cross product\n",
        "    A = np.linalg.norm(np.cross(a1, a2))\n",
        "    E_slab= surf.get_potential_energy()\n",
        "    n_atoms = len(surf)  # number of atoms in the slab\n",
        "    surface_energy = (E_slab - n_atoms * E_bulk) / (2 * A)  # factor 2 for two surfaces\n",
        "    print('surface energy:',round(surface_energy,3),'\\n')\n"
      ],
      "metadata": {
        "colab": {
          "base_uri": "https://localhost:8080/"
        },
        "id": "kyV2S06AjuZO",
        "outputId": "ba7a564c-5a39-4d38-f792-792f54bb08d3"
      },
      "execution_count": null,
      "outputs": [
        {
          "output_type": "stream",
          "name": "stdout",
          "text": [
            "Number of layers: 2\n",
            "Potential Energy: -16.38 eV\n",
            "Time taken: 2.86 seconds\n",
            "surface energy: -0.508 \n",
            "\n",
            "Number of layers: 3\n",
            "Potential Energy: -19.98 eV\n",
            "Time taken: 4.39 seconds\n",
            "surface energy: -0.476 \n",
            "\n",
            "Number of layers: 4\n",
            "Potential Energy: -25.48 eV\n",
            "Time taken: 23.47 seconds\n",
            "surface energy: -0.562 \n",
            "\n"
          ]
        }
      ]
    },
    {
      "cell_type": "markdown",
      "source": [
        "## 2. Testing different vacuum sizes (7.5, 10, 12.5, 15):\n"
      ],
      "metadata": {
        "id": "xupRf2TnpC_u"
      }
    },
    {
      "cell_type": "code",
      "source": [
        "import time\n",
        "import numpy as np\n",
        "from ase.build import fcc100\n",
        "from ase.constraints import FixAtoms\n",
        "from gpaw import GPAW, PW\n",
        "\n",
        "# Parameters\n",
        "a0 = 4  # lattice constant\n",
        "k = 1   # KPOINTS\n",
        "N_layer = 4  # number of layers\n",
        "size = 1  # supercell size\n",
        "\n",
        "# Iterate over different vacuum sizes\n",
        "for vac in [7.5, 10, 12.5, 15]:\n",
        "    surf = fcc100('Al', (size, size, N_layer), a=a0, vacuum=vac)\n",
        "    # Calculate the median z-position\n",
        "    median_z = np.median(surf.positions[:, 2])\n",
        "\n",
        "    # Apply constraint to fix bottom half of the slab\n",
        "    constraint = FixAtoms(mask=[atom.position[2] < (median_z + 0.01) for atom in surf])\n",
        "    surf.set_constraint(constraint)\n",
        "\n",
        "    # Set up the GPAW calculator\n",
        "    calc = GPAW(mode=PW(300),\n",
        "                kpts=(k, k, 1),\n",
        "                txt=f'slab_vac_{vac}.txt')\n",
        "    surf.calc = calc\n",
        "\n",
        "    # Start timing\n",
        "    start_time = time.time()\n",
        "\n",
        "    # Run the calculation to get the potential energy\n",
        "    e = surf.get_potential_energy()\n",
        "\n",
        "    # End timing\n",
        "    elapsed_time = time.time() - start_time\n",
        "\n",
        "    # Print the results\n",
        "    print(f'Vacuum size: {vac} Å')\n",
        "    print(f'Potential Energy: {e:.2f} eV')\n",
        "    print(f'Time taken: {elapsed_time:.2f} seconds\\n')\n"
      ],
      "metadata": {
        "colab": {
          "base_uri": "https://localhost:8080/"
        },
        "id": "bAhzCa51o_FV",
        "outputId": "3b69d583-7a2c-4181-e8e8-bf545e0b1f8d"
      },
      "execution_count": null,
      "outputs": [
        {
          "output_type": "stream",
          "name": "stdout",
          "text": [
            "Vacuum size: 7.5 Å\n",
            "Potential Energy: -25.48 eV\n",
            "Time taken: 22.30 seconds\n",
            "\n",
            "Vacuum size: 10 Å\n",
            "Potential Energy: -25.48 eV\n",
            "Time taken: 23.83 seconds\n",
            "\n",
            "Vacuum size: 12.5 Å\n",
            "Potential Energy: -25.48 eV\n",
            "Time taken: 30.52 seconds\n",
            "\n",
            "Vacuum size: 15 Å\n",
            "Potential Energy: -25.48 eV\n",
            "Time taken: 40.30 seconds\n",
            "\n"
          ]
        }
      ]
    },
    {
      "cell_type": "markdown",
      "source": [
        "## 3. Testing different surface facets (fcc100, fcc110, fcc111):\n"
      ],
      "metadata": {
        "id": "Rxd1bOxLpHlx"
      }
    },
    {
      "cell_type": "code",
      "source": [
        "import time\n",
        "import numpy as np\n",
        "from ase.build import fcc100, fcc110, fcc111\n",
        "from ase.constraints import FixAtoms\n",
        "from gpaw import GPAW, PW\n",
        "\n",
        "# Parameters\n",
        "a0 = 4  # lattice constant\n",
        "k = 1   # KPOINTS\n",
        "N_layer = 4  # number of layers\n",
        "size = 1  # supercell size\n",
        "vac = 7.5  # vacuum size\n",
        "\n",
        "# List of FCC surfaces to test\n",
        "fcc_surfaces = [('fcc100', fcc100), ('fcc110', fcc110), ('fcc111', fcc111)]\n",
        "\n",
        "# Iterate over different FCC orientations\n",
        "for surface_name, surface_function in fcc_surfaces:\n",
        "    surf = surface_function('Al', (size, size, N_layer), a=a0, vacuum=vac)\n",
        "    # Calculate the median z-position\n",
        "    median_z = np.median(surf.positions[:, 2])\n",
        "\n",
        "    # Apply constraint to fix bottom half of the slab\n",
        "    constraint = FixAtoms(mask=[atom.position[2] < (median_z + 0.01) for atom in surf])\n",
        "    surf.set_constraint(constraint)\n",
        "\n",
        "    # Set up the GPAW calculator\n",
        "    calc = GPAW(mode=PW(300),\n",
        "                kpts=(k, k, 1),\n",
        "                txt=f'{surface_name}_slab.txt')\n",
        "    surf.calc = calc\n",
        "\n",
        "    # Start timing\n",
        "    start_time = time.time()\n",
        "\n",
        "    # Run the calculation to get the potential energy\n",
        "    e = surf.get_potential_energy()\n",
        "\n",
        "    # End timing\n",
        "    elapsed_time = time.time() - start_time\n",
        "\n",
        "    # Print the results\n",
        "    print(f'Surface: {surface_name}')\n",
        "    print(f'Potential Energy: {e:.2f} eV')\n",
        "    print(f'Time taken: {elapsed_time:.2f} seconds\\n')\n"
      ],
      "metadata": {
        "colab": {
          "base_uri": "https://localhost:8080/"
        },
        "id": "TZ1ssSifpKVG",
        "outputId": "997b57da-3693-4e99-bf8d-262024c19d60"
      },
      "execution_count": null,
      "outputs": [
        {
          "output_type": "stream",
          "name": "stdout",
          "text": [
            "Surface: fcc100\n",
            "Potential Energy: -25.48 eV\n",
            "Time taken: 22.16 seconds\n",
            "\n",
            "Surface: fcc110\n",
            "Potential Energy: -20.42 eV\n",
            "Time taken: 5.42 seconds\n",
            "\n",
            "Surface: fcc111\n",
            "Potential Energy: -41.01 eV\n",
            "Time taken: 3.29 seconds\n",
            "\n"
          ]
        }
      ]
    }
  ]
}