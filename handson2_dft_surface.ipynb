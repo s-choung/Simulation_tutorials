{
  "nbformat": 4,
  "nbformat_minor": 0,
  "metadata": {
    "colab": {
      "provenance": [],
      "authorship_tag": "ABX9TyOqTSu8ASLEbOqr2cP7XxjJ",
      "include_colab_link": true
    },
    "kernelspec": {
      "name": "python3",
      "display_name": "Python 3"
    },
    "language_info": {
      "name": "python"
    }
  },
  "cells": [
    {
      "cell_type": "markdown",
      "metadata": {
        "id": "view-in-github",
        "colab_type": "text"
      },
      "source": [
        "<a href=\"https://colab.research.google.com/github/s-choung/Simulation_tutorials/blob/main/handson2_dft_surface.ipynb\" target=\"_parent\"><img src=\"https://colab.research.google.com/assets/colab-badge.svg\" alt=\"Open In Colab\"/></a>"
      ]
    },
    {
      "cell_type": "markdown",
      "source": [
        "## Get GPAW as we did last session\n",
        "- GPAW(+dependencies+ASE)\n",
        "- POVRAY"
      ],
      "metadata": {
        "id": "H8FGv9J7gcc9"
      }
    },
    {
      "cell_type": "code",
      "execution_count": null,
      "metadata": {
        "id": "AAlmTWYsgXeR"
      },
      "outputs": [],
      "source": [
        "!apt-get update\n",
        "!apt-get install -y python3-dev libopenblas-dev liblapack-dev libfftw3-dev libxc-dev\n",
        "!pip install gpaw\n",
        "!gpaw test\n",
        "!wget https://wiki.fysik.dtu.dk/gpaw-files/gpaw-setups-24.1.0.tar.gz\n",
        "!tar -xzf gpaw-setups-24.1.0.tar.gz\n",
        "\n",
        "import os\n",
        "import gzip\n",
        "import shutil\n",
        "\n",
        "# Define the path to the setup files\n",
        "setup_path = '/content/gpaw-setups-24.1.0'\n",
        "\n",
        "# Uncompress all .gz files in the setup directory\n",
        "for filename in os.listdir(setup_path):\n",
        "    if filename.endswith('.gz'):\n",
        "        filepath = os.path.join(setup_path, filename)\n",
        "        with gzip.open(filepath, 'rb') as f_in:\n",
        "            with open(filepath[:-3], 'wb') as f_out:\n",
        "                shutil.copyfileobj(f_in, f_out)\n",
        "\n",
        "# Set the GPAW_SETUP_PATH environment variable\n",
        "os.environ['GPAW_SETUP_PATH'] = setup_path\n",
        "# Verify the environment variable\n",
        "print(\"GPAW_SETUP_PATH:\", os.environ['GPAW_SETUP_PATH'])\n",
        "\n",
        "# Import ASE and GPAW and run your calculation\n",
        "from ase import Atoms\n",
        "from gpaw import GPAW\n",
        "\n",
        "# Define the atomic structure\n",
        "d = 0.74\n",
        "a = 10.0\n",
        "\n",
        "h2 = Atoms('H2',\n",
        "              positions=[(0, 0, 0),\n",
        "                         (0, 0, d)],\n",
        "              cell=(a, a, a))\n",
        "h2.center()\n",
        "# Initialize GPAW calculator without specifying the 'setups' parameter\n",
        "calc = GPAW(mode='fd', nbands=2, txt='h2.txt')\n",
        "h2.calc = calc\n",
        "\n",
        "# Run the calculation\n",
        "print(\"Forces on atoms:\", h2.get_forces())\n",
        "print(\"Energies on atoms:\", h2.get_total_energy())\n",
        "\n",
        "!sudo apt-get install povray  ## visulization program\n",
        "\n",
        "import shutil\n",
        "from ase.io import write  # Import the write function from ASE\n",
        "from PIL import Image\n",
        "from IPython.display import display  # Import display for Jupyter Notebooks\n",
        "\n",
        "\n",
        "def visual(structure, max_size=(200, 200), stretch_y=2.0, rotation='15z,-60x', png_save_path='./'):\n",
        "    renderer = write('./temp.pov', structure, rotation=rotation)\n",
        "    renderer.render()\n",
        "    image_path = './temp.png'\n",
        "    img = Image.open(image_path)\n",
        "\n",
        "    # Calculate new size with stretch factor\n",
        "    new_size = (max_size[0], int(max_size[1] * stretch_y))\n",
        "    img = img.resize(new_size, Image.LANCZOS)\n",
        "    display(img)\n",
        "\n",
        "    # Move files to output directory\n",
        "    files = ['./temp.ini', './temp.pov', './temp.png']\n",
        "    destination = './output/'\n",
        "\n",
        "    # Ensure destination directory exists\n",
        "    os.makedirs(destination, exist_ok=True)\n",
        "\n",
        "    for file in files:\n",
        "        # Remove the file in the destination directory if it exists\n",
        "        if os.path.isfile(os.path.join(destination, os.path.basename(file))):\n",
        "            os.remove(os.path.join(destination, os.path.basename(file)))\n",
        "\n",
        "        if file == './temp.png':\n",
        "            new_file_name = png_save_path + f'temp.png'\n",
        "        else:\n",
        "            new_file_name = os.path.basename(file)\n",
        "        shutil.move(file, os.path.join(destination, new_file_name))\n",
        "visual(h2)"
      ]
    },
    {
      "cell_type": "markdown",
      "source": [
        "## Lets make a catalyst surface using ase.build library"
      ],
      "metadata": {
        "id": "GOBMfKwFhHcT"
      }
    },
    {
      "cell_type": "markdown",
      "source": [
        "Type all the calculation setups defined in last hands-on session"
      ],
      "metadata": {
        "id": "mqE2DuiuH77E"
      }
    },
    {
      "cell_type": "code",
      "source": [
        "name = 'Al-fcc'\n",
        "a0 = 3.93  # fcc lattice parameter\n",
        "k = 4\n",
        "element='Al'"
      ],
      "metadata": {
        "id": "6P6e3cIIIIc_"
      },
      "execution_count": 44,
      "outputs": []
    },
    {
      "cell_type": "code",
      "source": [
        "\"\"\"Bulk Al(fcc) test\"\"\"\n",
        "from ase import Atoms\n",
        "from ase.visualize import view\n",
        "from gpaw import GPAW, PW\n",
        "from ase.build import bulk\n",
        "\n",
        "bulk = bulk(element, 'fcc', a=a0)\n",
        "calc = GPAW(mode=PW(300),\n",
        "            xc='PBE',      # cutoff\n",
        "            kpts=(k, k, k),     # k-points\n",
        "            txt=name + '.txt')  # output file\n",
        "\n",
        "bulk.calc = calc\n",
        "E_bulk = bulk.get_potential_energy()"
      ],
      "metadata": {
        "id": "iVAqhqRnH7WY"
      },
      "execution_count": 45,
      "outputs": []
    },
    {
      "cell_type": "code",
      "source": [
        "import time\n",
        "import numpy as np\n",
        "import matplotlib.pyplot as plt\n",
        "import pandas as pd\n",
        "from ase import Atoms\n",
        "from gpaw import GPAW, PW\n",
        "from ase.build import fcc100\n",
        "from ase.constraints import FixAtoms\n",
        "\n",
        "# Initialize the parameters\n",
        "N_layer = 4 # number of layers\n",
        "size = 1 #  supercell size\n",
        "vac = 7.5\n",
        "\n",
        "surf = fcc100(element, (size, size, N_layer), a=a0, vacuum=vac)\n",
        "#surf.center(axis=2)\n",
        "\n",
        "# Calculate the median z-position\n",
        "median_z = np.median(surf.positions[:, 2])\n",
        "\n",
        "# Apply the constraint to fix atoms below the median z position\n",
        "constraint = FixAtoms(mask=[atom.position[2] < (median_z + 0.01) for atom in surf])\n",
        "surf.set_constraint(constraint)\n",
        "\n",
        "# Set up the GPAW calculator\n",
        "calc = GPAW(mode=PW(300),\n",
        "            kpts=(k, k, 1),\n",
        "            xc='PBE',\n",
        "            txt='slab.txt')\n",
        "# Attach the calculator to the slab\n",
        "surf.calc = calc\n",
        "\n",
        "\n",
        "# Start timing\n",
        "start_time = time.time()\n",
        "\n",
        "# Run the calculation to get the potential energy\n",
        "e = surf.get_potential_energy()\n",
        "\n",
        "# End timing\n",
        "end_time = time.time()\n",
        "\n",
        "# Calculate the elapsed time\n",
        "elapsed_time = end_time - start_time\n",
        "print(\"Atomic numbers:\", surf.get_atomic_numbers())\n",
        "print(\"Chemical symbols:\", surf.get_chemical_symbols())\n",
        "print(\"Positions:\", surf.get_positions())\n",
        "# Print the energy and the elapsed time\n",
        "print(f'Potential Energy: {e} eV')\n",
        "print(f'Time taken: {elapsed_time:.2f} seconds')\n",
        "print(surf)\n",
        "visual(surf)\n",
        "\n",
        "# for a better view\n",
        "'''temp=surf.copy()\n",
        "temp=temp*(3,3,1)\n",
        "temp.cell=surf.cell\n",
        "visual(temp)'''"
      ],
      "metadata": {
        "id": "bsDmiIpLgsuk"
      },
      "execution_count": null,
      "outputs": []
    },
    {
      "cell_type": "markdown",
      "source": [
        "lets calculate surface energy"
      ],
      "metadata": {
        "id": "-K91J4qyq0yS"
      }
    },
    {
      "cell_type": "code",
      "source": [
        "a1 = surf.get_cell()[0]  # First lattice vector (in the surface plane)\n",
        "a2 = surf.get_cell()[1]  # Second lattice vector (in the surface plane)\n",
        "# Calculate the surface area as the magnitude of the cross product\n",
        "A = np.linalg.norm(np.cross(a1, a2))\n",
        "E_slab= surf.get_potential_energy()\n",
        "n_atoms = len(surf)  # number of atoms in the slab\n",
        "surface_energy = (E_slab - n_atoms * E_bulk) / (2 * A)  # factor 2 for two surfaces\n",
        "print(f'surface energy: {round(surface_energy,3)} eV\\n')\n",
        "print(E_slab)\n",
        "print(E_bulk)\n",
        "print(n_atoms)\n"
      ],
      "metadata": {
        "id": "ollhxiXzrrOz"
      },
      "execution_count": null,
      "outputs": []
    },
    {
      "cell_type": "markdown",
      "source": [
        "## 1. Testing different numbers of layers (2, 3, 4, 5, 6):\n"
      ],
      "metadata": {
        "id": "DrBsVA1so8nd"
      }
    },
    {
      "cell_type": "code",
      "source": [
        "import time\n",
        "import numpy as np\n",
        "from ase.build import fcc100\n",
        "from ase.constraints import FixAtoms\n",
        "from gpaw import GPAW, PW\n",
        "\n",
        "# Parameters\n",
        "a0 = 4  # lattice constant\n",
        "k = 1   # KPOINTS\n",
        "size = 1  # supercell size\n",
        "vac = 7.5  # vacuum size\n",
        "\n",
        "# Iterate over different number of layers\n",
        "for N_layer in range(2, 7):\n",
        "    surf = fcc100('Al', (size, size, N_layer), a=a0, vacuum=vac)\n",
        "    # Calculate the median z-position\n",
        "    median_z = np.median(surf.positions[:, 2])\n",
        "\n",
        "    # Apply constraint to fix bottom half of the slab\n",
        "    constraint = FixAtoms(mask=[atom.position[2] < (median_z + 0.01) for atom in surf])\n",
        "    surf.set_constraint(constraint) # advanced: you can play with the way you fix and relax number of layers\n",
        "\n",
        "    # Set up the GPAW calculator\n",
        "    calc = GPAW(mode=PW(300),\n",
        "                kpts=(k, k, 1),\n",
        "                xc='PBE',\n",
        "                txt=f'slab_{N_layer}_layers.txt')\n",
        "    surf.calc = calc\n",
        "\n",
        "    # Start timing\n",
        "    start_time = time.time()\n",
        "\n",
        "    # Run the calculation to get the potential energy\n",
        "    e = surf.get_potential_energy()\n",
        "\n",
        "    # End timing\n",
        "    elapsed_time = time.time() - start_time\n",
        "\n",
        "    # Print the results\n",
        "    print(f'Number of layers: {N_layer}')\n",
        "    print(f'Potential Energy: {e:.2f} eV')\n",
        "    print(f'Time taken: {elapsed_time:.2f} seconds')\n",
        "\n",
        "    a1 = surf.get_cell()[0]  # First lattice vector (in the surface plane)\n",
        "    a2 = surf.get_cell()[1]  # Second lattice vector (in the surface plane)\n",
        "    # Calculate the surface area as the magnitude of the cross product\n",
        "    A = np.linalg.norm(np.cross(a1, a2))\n",
        "    E_slab= surf.get_potential_energy()\n",
        "    n_atoms = len(surf)  # number of atoms in the slab\n",
        "    surface_energy = (E_slab - n_atoms * E_bulk) / (2 * A)  # factor 2 for two surfaces\n",
        "    print('surface energy:',round(surface_energy,3),'\\n')\n"
      ],
      "metadata": {
        "id": "kyV2S06AjuZO"
      },
      "execution_count": null,
      "outputs": []
    },
    {
      "cell_type": "markdown",
      "source": [
        "## 2. Testing different vacuum sizes (7.5, 10, 12.5, 15):\n"
      ],
      "metadata": {
        "id": "xupRf2TnpC_u"
      }
    },
    {
      "cell_type": "code",
      "source": [
        "import time\n",
        "import numpy as np\n",
        "from ase.build import fcc100\n",
        "from ase.constraints import FixAtoms\n",
        "from gpaw import GPAW, PW\n",
        "\n",
        "# Parameters\n",
        "a0 = 4  # lattice constant\n",
        "k = 1   # KPOINTS\n",
        "N_layer = 4  # number of layers\n",
        "size = 1  # supercell size\n",
        "\n",
        "# Iterate over different vacuum sizes\n",
        "for vac in [7.5, 10, 12.5, 15]:\n",
        "    surf = fcc100('Al', (size, size, N_layer), a=a0, vacuum=vac)\n",
        "    # Calculate the median z-position\n",
        "    median_z = np.median(surf.positions[:, 2])\n",
        "\n",
        "    # Apply constraint to fix bottom half of the slab\n",
        "    constraint = FixAtoms(mask=[atom.position[2] < (median_z + 0.01) for atom in surf])\n",
        "    surf.set_constraint(constraint)\n",
        "\n",
        "    # Set up the GPAW calculator\n",
        "    calc = GPAW(mode=PW(300),\n",
        "                kpts=(k, k, 1),\n",
        "                xc='PBE',\n",
        "                txt=f'slab_vac_{vac}.txt')\n",
        "    surf.calc = calc\n",
        "\n",
        "    # Start timing\n",
        "    start_time = time.time()\n",
        "\n",
        "    # Run the calculation to get the potential energy\n",
        "    e = surf.get_potential_energy()\n",
        "\n",
        "    # End timing\n",
        "    elapsed_time = time.time() - start_time\n",
        "\n",
        "    # Print the results\n",
        "    print(f'Vacuum size: {vac} Å')\n",
        "    print(f'Potential Energy: {e:.2f} eV')\n",
        "    print(f'Time taken: {elapsed_time:.2f} seconds\\n')\n"
      ],
      "metadata": {
        "id": "bAhzCa51o_FV"
      },
      "execution_count": null,
      "outputs": []
    },
    {
      "cell_type": "markdown",
      "source": [
        "## 3. Testing different surface facets (fcc100, fcc110, fcc111):\n"
      ],
      "metadata": {
        "id": "Rxd1bOxLpHlx"
      }
    },
    {
      "cell_type": "code",
      "source": [
        "import time\n",
        "import numpy as np\n",
        "from ase.build import fcc100, fcc110, fcc111\n",
        "from ase.constraints import FixAtoms\n",
        "from gpaw import GPAW, PW\n",
        "\n",
        "# Parameters\n",
        "a0 = 4  # lattice constant\n",
        "k = 1   # KPOINTS\n",
        "N_layer = 4  # number of layers\n",
        "size = 1  # supercell size\n",
        "vac = 7.5  # vacuum size\n",
        "\n",
        "# List of FCC surfaces to test\n",
        "fcc_surfaces = [('fcc100', fcc100), ('fcc110', fcc110), ('fcc111', fcc111)]\n",
        "\n",
        "# Iterate over different FCC orientations\n",
        "for surface_name, surface_function in fcc_surfaces:\n",
        "    surf = surface_function('Al', (size, size, N_layer), a=a0, vacuum=vac)\n",
        "    # Calculate the median z-position\n",
        "    median_z = np.median(surf.positions[:, 2])\n",
        "\n",
        "    # Apply constraint to fix bottom half of the slab\n",
        "    constraint = FixAtoms(mask=[atom.position[2] < (median_z + 0.01) for atom in surf])\n",
        "    surf.set_constraint(constraint)\n",
        "\n",
        "    # Set up the GPAW calculator\n",
        "    calc = GPAW(mode=PW(300),\n",
        "                kpts=(k, k, 1),\n",
        "                xc='PBE',\n",
        "                txt=f'{surface_name}_slab.txt')\n",
        "    surf.calc = calc\n",
        "\n",
        "    # Start timing\n",
        "    start_time = time.time()\n",
        "\n",
        "    # Run the calculation to get the potential energy\n",
        "    e = surf.get_potential_energy()\n",
        "\n",
        "    # End timing\n",
        "    elapsed_time = time.time() - start_time\n",
        "\n",
        "    # Print the results\n",
        "    print(f'Surface: {surface_name}')\n",
        "    print(f'Potential Energy: {e:.2f} eV')\n",
        "    print(f'Time taken: {elapsed_time:.2f} seconds\\n')\n"
      ],
      "metadata": {
        "id": "TZ1ssSifpKVG"
      },
      "execution_count": null,
      "outputs": []
    }
  ]
}