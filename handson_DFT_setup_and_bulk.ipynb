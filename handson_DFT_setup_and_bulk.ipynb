{
  "nbformat": 4,
  "nbformat_minor": 0,
  "metadata": {
    "colab": {
      "provenance": [],
      "authorship_tag": "ABX9TyNK1k9rCeJ9jTIMPMDQSPi6",
      "include_colab_link": true
    },
    "kernelspec": {
      "name": "python3",
      "display_name": "Python 3"
    },
    "language_info": {
      "name": "python"
    }
  },
  "cells": [
    {
      "cell_type": "markdown",
      "metadata": {
        "id": "view-in-github",
        "colab_type": "text"
      },
      "source": [
        "<a href=\"https://colab.research.google.com/github/s-choung/Simulation_tutorials/blob/main/handson_DFT_setup_and_bulk.ipynb\" target=\"_parent\"><img src=\"https://colab.research.google.com/assets/colab-badge.svg\" alt=\"Open In Colab\"/></a>"
      ]
    },
    {
      "cell_type": "markdown",
      "source": [
        "## Density Functional Theory in Catalyst Research\n",
        "\n",
        "The urgent need to combat climate change has increased the focus on renewable energy sources, aiming to reduce reliance on fossil fuels and mitigate environmental harm. Efficient catalysts are essential for accelerating chemical reactions, lowering energy consumption, and improving production efficiency. Density Functional Theory (DFT) allows for the simulation of electron density around atomic nuclei by approximating the Schrödinger equation. This facilitates the prediction of catalyst properties, including active sites, adsorbate interactions, and electronic structures, driving more efficient and predictive catalyst design.\n",
        "\n",
        "*Choung et al., Chemical Engineering Journal 494, 2024, 152757*\n"
      ],
      "metadata": {
        "id": "Bk5Cmvws6UJY"
      }
    },
    {
      "cell_type": "markdown",
      "source": [
        "## The grid-based projector-augmented wave (GPAW) code\n",
        "GPAW is a density-functional theory (DFT) Python code based on the projector-augmented wave (PAW) method and the atomic simulation environment (ASE).  GPAW is open-source Python package for electronic structure calculations. GPAW is based on the projector-augmented wave method and can solve the self-consistent DFT equations using three different wave-function representations, namely real-space grids, plane waves, and numerical atomic orbitals.\n",
        "read more: https://pubs.aip.org/aip/jcp/article/160/9/092503/3269902/GPAW-An-open-Python-package-for-electronic"
      ],
      "metadata": {
        "id": "CzINxNUm6jNc"
      }
    },
    {
      "cell_type": "markdown",
      "source": [
        "- **`python3-dev`**: Provides header files needed to compile Python extensions for `gpaw`'s high-performance computations.\n",
        "- **`libopenblas-dev`**: Optimized library for linear algebra operations like matrix multiplication, ensuring efficient performance in `gpaw`.\n",
        "- **`liblapack-dev`**: Another essential library for linear algebra tasks such as solving equations and eigenvalue problems.\n",
        "- **`libfftw3-dev`**: Library for Fast Fourier Transform (FFT), used in electronic structure calculations to handle problems in reciprocal space.\n",
        "- **`libxc-dev`**: Provides exchange-correlation functionals required for Density Functional Theory (DFT) calculations in `gpaw`.\n"
      ],
      "metadata": {
        "id": "gzkW7BA9-Ohz"
      }
    },
    {
      "cell_type": "code",
      "source": [
        "!apt-get update\n",
        "!apt-get install -y python3-dev libopenblas-dev liblapack-dev libfftw3-dev libxc-dev"
      ],
      "metadata": {
        "colab": {
          "base_uri": "https://localhost:8080/"
        },
        "id": "S3Xg9Ezw2x9G",
        "outputId": "de2337d6-eb51-4d6a-d140-70d7d377796b"
      },
      "execution_count": 1,
      "outputs": [
        {
          "output_type": "stream",
          "name": "stdout",
          "text": [
            "Get:1 https://cloud.r-project.org/bin/linux/ubuntu jammy-cran40/ InRelease [3,626 B]\n",
            "Hit:2 https://developer.download.nvidia.com/compute/cuda/repos/ubuntu2204/x86_64  InRelease\n",
            "Get:3 http://security.ubuntu.com/ubuntu jammy-security InRelease [129 kB]\n",
            "Hit:4 http://archive.ubuntu.com/ubuntu jammy InRelease\n",
            "Get:5 http://archive.ubuntu.com/ubuntu jammy-updates InRelease [128 kB]\n",
            "Ign:6 https://r2u.stat.illinois.edu/ubuntu jammy InRelease\n",
            "Get:7 https://r2u.stat.illinois.edu/ubuntu jammy Release [5,713 B]\n",
            "Hit:8 https://ppa.launchpadcontent.net/deadsnakes/ppa/ubuntu jammy InRelease\n",
            "Get:9 https://r2u.stat.illinois.edu/ubuntu jammy Release.gpg [793 B]\n",
            "Hit:10 https://ppa.launchpadcontent.net/graphics-drivers/ppa/ubuntu jammy InRelease\n",
            "Hit:11 https://ppa.launchpadcontent.net/ubuntugis/ppa/ubuntu jammy InRelease\n",
            "Get:12 http://security.ubuntu.com/ubuntu jammy-security/main amd64 Packages [2,314 kB]\n",
            "Hit:13 http://archive.ubuntu.com/ubuntu jammy-backports InRelease\n",
            "Get:14 https://r2u.stat.illinois.edu/ubuntu jammy/main amd64 Packages [2,583 kB]\n",
            "Get:15 http://security.ubuntu.com/ubuntu jammy-security/restricted amd64 Packages [3,108 kB]\n",
            "Get:16 http://archive.ubuntu.com/ubuntu jammy-updates/main amd64 Packages [2,590 kB]\n",
            "Get:17 http://security.ubuntu.com/ubuntu jammy-security/universe amd64 Packages [1,153 kB]\n",
            "Get:18 https://r2u.stat.illinois.edu/ubuntu jammy/main all Packages [8,341 kB]\n",
            "Get:19 http://archive.ubuntu.com/ubuntu jammy-updates/universe amd64 Packages [1,441 kB]\n",
            "Fetched 21.8 MB in 7s (3,145 kB/s)\n",
            "Reading package lists... Done\n",
            "W: Skipping acquire of configured file 'main/source/Sources' as repository 'https://r2u.stat.illinois.edu/ubuntu jammy InRelease' does not seem to provide it (sources.list entry misspelt?)\n",
            "Reading package lists... Done\n",
            "Building dependency tree... Done\n",
            "Reading state information... Done\n",
            "liblapack-dev is already the newest version (3.10.0-2ubuntu1).\n",
            "libopenblas-dev is already the newest version (0.3.20+ds-1).\n",
            "python3-dev is already the newest version (3.10.6-1~22.04.1).\n",
            "python3-dev set to manually installed.\n",
            "The following additional packages will be installed:\n",
            "  libfftw3-bin libfftw3-double3 libfftw3-long3 libfftw3-quad3 libfftw3-single3 libxc9\n",
            "Suggested packages:\n",
            "  libfftw3-doc\n",
            "The following NEW packages will be installed:\n",
            "  libfftw3-bin libfftw3-dev libfftw3-double3 libfftw3-long3 libfftw3-quad3 libfftw3-single3\n",
            "  libxc-dev libxc9\n",
            "0 upgraded, 8 newly installed, 0 to remove and 56 not upgraded.\n",
            "Need to get 16.6 MB of archives.\n",
            "After this operation, 65.9 MB of additional disk space will be used.\n",
            "Get:1 http://archive.ubuntu.com/ubuntu jammy/main amd64 libfftw3-double3 amd64 3.3.8-2ubuntu8 [770 kB]\n",
            "Get:2 http://archive.ubuntu.com/ubuntu jammy/main amd64 libfftw3-long3 amd64 3.3.8-2ubuntu8 [335 kB]\n",
            "Get:3 http://archive.ubuntu.com/ubuntu jammy/main amd64 libfftw3-quad3 amd64 3.3.8-2ubuntu8 [614 kB]\n",
            "Get:4 http://archive.ubuntu.com/ubuntu jammy/main amd64 libfftw3-single3 amd64 3.3.8-2ubuntu8 [800 kB]\n",
            "Get:5 http://archive.ubuntu.com/ubuntu jammy/main amd64 libfftw3-bin amd64 3.3.8-2ubuntu8 [35.5 kB]\n",
            "Get:6 http://archive.ubuntu.com/ubuntu jammy/main amd64 libfftw3-dev amd64 3.3.8-2ubuntu8 [2,101 kB]\n",
            "Get:7 http://archive.ubuntu.com/ubuntu jammy/universe amd64 libxc9 amd64 5.1.7-1ubuntu1 [3,900 kB]\n",
            "Get:8 http://archive.ubuntu.com/ubuntu jammy/universe amd64 libxc-dev amd64 5.1.7-1ubuntu1 [8,038 kB]\n",
            "Fetched 16.6 MB in 4s (4,539 kB/s)\n",
            "Selecting previously unselected package libfftw3-double3:amd64.\n",
            "(Reading database ... 123599 files and directories currently installed.)\n",
            "Preparing to unpack .../0-libfftw3-double3_3.3.8-2ubuntu8_amd64.deb ...\n",
            "Unpacking libfftw3-double3:amd64 (3.3.8-2ubuntu8) ...\n",
            "Selecting previously unselected package libfftw3-long3:amd64.\n",
            "Preparing to unpack .../1-libfftw3-long3_3.3.8-2ubuntu8_amd64.deb ...\n",
            "Unpacking libfftw3-long3:amd64 (3.3.8-2ubuntu8) ...\n",
            "Selecting previously unselected package libfftw3-quad3:amd64.\n",
            "Preparing to unpack .../2-libfftw3-quad3_3.3.8-2ubuntu8_amd64.deb ...\n",
            "Unpacking libfftw3-quad3:amd64 (3.3.8-2ubuntu8) ...\n",
            "Selecting previously unselected package libfftw3-single3:amd64.\n",
            "Preparing to unpack .../3-libfftw3-single3_3.3.8-2ubuntu8_amd64.deb ...\n",
            "Unpacking libfftw3-single3:amd64 (3.3.8-2ubuntu8) ...\n",
            "Selecting previously unselected package libfftw3-bin.\n",
            "Preparing to unpack .../4-libfftw3-bin_3.3.8-2ubuntu8_amd64.deb ...\n",
            "Unpacking libfftw3-bin (3.3.8-2ubuntu8) ...\n",
            "Selecting previously unselected package libfftw3-dev:amd64.\n",
            "Preparing to unpack .../5-libfftw3-dev_3.3.8-2ubuntu8_amd64.deb ...\n",
            "Unpacking libfftw3-dev:amd64 (3.3.8-2ubuntu8) ...\n",
            "Selecting previously unselected package libxc9:amd64.\n",
            "Preparing to unpack .../6-libxc9_5.1.7-1ubuntu1_amd64.deb ...\n",
            "Unpacking libxc9:amd64 (5.1.7-1ubuntu1) ...\n",
            "Selecting previously unselected package libxc-dev.\n",
            "Preparing to unpack .../7-libxc-dev_5.1.7-1ubuntu1_amd64.deb ...\n",
            "Unpacking libxc-dev (5.1.7-1ubuntu1) ...\n",
            "Setting up libfftw3-single3:amd64 (3.3.8-2ubuntu8) ...\n",
            "Setting up libfftw3-long3:amd64 (3.3.8-2ubuntu8) ...\n",
            "Setting up libfftw3-quad3:amd64 (3.3.8-2ubuntu8) ...\n",
            "Setting up libfftw3-double3:amd64 (3.3.8-2ubuntu8) ...\n",
            "Setting up libxc9:amd64 (5.1.7-1ubuntu1) ...\n",
            "Setting up libfftw3-bin (3.3.8-2ubuntu8) ...\n",
            "Setting up libxc-dev (5.1.7-1ubuntu1) ...\n",
            "Setting up libfftw3-dev:amd64 (3.3.8-2ubuntu8) ...\n",
            "Processing triggers for man-db (2.10.2-1) ...\n",
            "Processing triggers for libc-bin (2.35-0ubuntu3.4) ...\n",
            "/sbin/ldconfig.real: /usr/local/lib/libtbb.so.12 is not a symbolic link\n",
            "\n",
            "/sbin/ldconfig.real: /usr/local/lib/libur_loader.so.0 is not a symbolic link\n",
            "\n",
            "/sbin/ldconfig.real: /usr/local/lib/libur_adapter_opencl.so.0 is not a symbolic link\n",
            "\n",
            "/sbin/ldconfig.real: /usr/local/lib/libtbbbind.so.3 is not a symbolic link\n",
            "\n",
            "/sbin/ldconfig.real: /usr/local/lib/libtbbmalloc_proxy.so.2 is not a symbolic link\n",
            "\n",
            "/sbin/ldconfig.real: /usr/local/lib/libur_adapter_level_zero.so.0 is not a symbolic link\n",
            "\n",
            "/sbin/ldconfig.real: /usr/local/lib/libtbbmalloc.so.2 is not a symbolic link\n",
            "\n",
            "/sbin/ldconfig.real: /usr/local/lib/libtbbbind_2_0.so.3 is not a symbolic link\n",
            "\n",
            "/sbin/ldconfig.real: /usr/local/lib/libtbbbind_2_5.so.3 is not a symbolic link\n",
            "\n"
          ]
        }
      ]
    },
    {
      "cell_type": "code",
      "source": [
        "!pip install gpaw"
      ],
      "metadata": {
        "colab": {
          "base_uri": "https://localhost:8080/"
        },
        "id": "UIZDhutO2lK3",
        "outputId": "6bda4500-cdc6-441b-87c7-22888956db63"
      },
      "execution_count": 2,
      "outputs": [
        {
          "output_type": "stream",
          "name": "stdout",
          "text": [
            "Collecting gpaw\n",
            "  Downloading gpaw-24.6.0.tar.gz (2.0 MB)\n",
            "\u001b[2K     \u001b[90m━━━━━━━━━━━━━━━━━━━━━━━━━━━━━━━━━━━━━━━━\u001b[0m \u001b[32m2.0/2.0 MB\u001b[0m \u001b[31m18.5 MB/s\u001b[0m eta \u001b[36m0:00:00\u001b[0m\n",
            "\u001b[?25h  Preparing metadata (setup.py) ... \u001b[?25l\u001b[?25hdone\n",
            "Collecting ase>=3.23.0 (from gpaw)\n",
            "  Downloading ase-3.23.0-py3-none-any.whl.metadata (3.8 kB)\n",
            "Requirement already satisfied: numpy<2 in /usr/local/lib/python3.10/dist-packages (from gpaw) (1.26.4)\n",
            "Requirement already satisfied: scipy>=1.6.0 in /usr/local/lib/python3.10/dist-packages (from gpaw) (1.13.1)\n",
            "Requirement already satisfied: matplotlib>=3.3.4 in /usr/local/lib/python3.10/dist-packages (from ase>=3.23.0->gpaw) (3.7.1)\n",
            "Requirement already satisfied: contourpy>=1.0.1 in /usr/local/lib/python3.10/dist-packages (from matplotlib>=3.3.4->ase>=3.23.0->gpaw) (1.3.0)\n",
            "Requirement already satisfied: cycler>=0.10 in /usr/local/lib/python3.10/dist-packages (from matplotlib>=3.3.4->ase>=3.23.0->gpaw) (0.12.1)\n",
            "Requirement already satisfied: fonttools>=4.22.0 in /usr/local/lib/python3.10/dist-packages (from matplotlib>=3.3.4->ase>=3.23.0->gpaw) (4.53.1)\n",
            "Requirement already satisfied: kiwisolver>=1.0.1 in /usr/local/lib/python3.10/dist-packages (from matplotlib>=3.3.4->ase>=3.23.0->gpaw) (1.4.7)\n",
            "Requirement already satisfied: packaging>=20.0 in /usr/local/lib/python3.10/dist-packages (from matplotlib>=3.3.4->ase>=3.23.0->gpaw) (24.1)\n",
            "Requirement already satisfied: pillow>=6.2.0 in /usr/local/lib/python3.10/dist-packages (from matplotlib>=3.3.4->ase>=3.23.0->gpaw) (10.4.0)\n",
            "Requirement already satisfied: pyparsing>=2.3.1 in /usr/local/lib/python3.10/dist-packages (from matplotlib>=3.3.4->ase>=3.23.0->gpaw) (3.1.4)\n",
            "Requirement already satisfied: python-dateutil>=2.7 in /usr/local/lib/python3.10/dist-packages (from matplotlib>=3.3.4->ase>=3.23.0->gpaw) (2.8.2)\n",
            "Requirement already satisfied: six>=1.5 in /usr/local/lib/python3.10/dist-packages (from python-dateutil>=2.7->matplotlib>=3.3.4->ase>=3.23.0->gpaw) (1.16.0)\n",
            "Downloading ase-3.23.0-py3-none-any.whl (2.9 MB)\n",
            "\u001b[2K   \u001b[90m━━━━━━━━━━━━━━━━━━━━━━━━━━━━━━━━━━━━━━━━\u001b[0m \u001b[32m2.9/2.9 MB\u001b[0m \u001b[31m79.6 MB/s\u001b[0m eta \u001b[36m0:00:00\u001b[0m\n",
            "\u001b[?25hBuilding wheels for collected packages: gpaw\n",
            "  Building wheel for gpaw (setup.py) ... \u001b[?25l\u001b[?25hdone\n",
            "  Created wheel for gpaw: filename=gpaw-24.6.0-cp310-cp310-linux_x86_64.whl size=2787035 sha256=98405a3e5c27a061560c8d90868efe96a7cd0a6b892c3b9fa17f9db220f61edd\n",
            "  Stored in directory: /root/.cache/pip/wheels/13/03/25/dc7e7191efd7e13c67490ed6c1de03bcc1674874df1dc6e118\n",
            "Successfully built gpaw\n",
            "Installing collected packages: ase, gpaw\n",
            "Successfully installed ase-3.23.0 gpaw-24.6.0\n"
          ]
        }
      ]
    },
    {
      "cell_type": "code",
      "source": [
        "!gpaw test"
      ],
      "metadata": {
        "colab": {
          "base_uri": "https://localhost:8080/"
        },
        "id": "WnJ9QX-P1kww",
        "outputId": "3dc6103d-d16b-4846-e698-3201d04805e6"
      },
      "execution_count": 3,
      "outputs": [
        {
          "output_type": "stream",
          "name": "stdout",
          "text": [
            " -------------------------------------------------------------------------------------------------\n",
            "| python-3.10.12    /usr/bin/python3                                                              |\n",
            "| gpaw-24.6.0       /usr/local/lib/python3.10/dist-packages/gpaw/                                 |\n",
            "| ase-3.23.0        /usr/local/lib/python3.10/dist-packages/ase/                                  |\n",
            "| numpy-1.26.4      /usr/local/lib/python3.10/dist-packages/numpy/                                |\n",
            "| scipy-1.13.1      /usr/local/lib/python3.10/dist-packages/scipy/                                |\n",
            "| libxc-5.1.7       yes                                                                           |\n",
            "| _gpaw             /usr/local/lib/python3.10/dist-packages/_gpaw.cpython-310-x86_64-linux-gnu.so |\n",
            "| MPI enabled       yes                                                                           |\n",
            "| OpenMP enabled    no                                                                            |\n",
            "| GPU enabled       no                                                                            |\n",
            "| GPU-aware MPI     no                                                                            |\n",
            "| CUPY              /usr/local/lib/python3.10/dist-packages/gpaw/gpu/cpupy/__init__.py            |\n",
            "| scalapack         no                                                                            |\n",
            "| Elpa              no                                                                            |\n",
            "| FFTW              no                                                                            |\n",
            "| libvdwxc          no                                                                            |\n",
            "| PAW-datasets (1)  /usr/local/share/gpaw-setups                                                  |\n",
            "| PAW-datasets (2)  /usr/share/gpaw-setups                                                        |\n",
            " -------------------------------------------------------------------------------------------------\n",
            "Could not find any atomic PAW-data or pseudopotentials!\n",
            "\n",
            "You need to set the GPAW_SETUP_PATH environment variable to point to\n",
            "the directories where PAW dataset and basis files are stored.  See\n",
            "https://wiki.fysik.dtu.dk/gpaw/install.html#install-paw-datasets\n",
            "for details.\n"
          ]
        }
      ]
    },
    {
      "cell_type": "markdown",
      "source": [
        "## Install Pseudo potential for GPAW calculations\n",
        "\n",
        "A setup is to the PAW method what a pseudo-potential is to the pseudo-potential method.\n",
        "read more: https://gpaw.readthedocs.io/setups/setups.html"
      ],
      "metadata": {
        "id": "Cq920dYk7yz0"
      }
    },
    {
      "cell_type": "code",
      "source": [
        "!tar -xvzf gpaw-setups-24.1.0.tar.gz"
      ],
      "metadata": {
        "id": "QlycqXtMcu0J"
      },
      "execution_count": null,
      "outputs": []
    },
    {
      "cell_type": "code",
      "source": [
        "!gpaw -T install-data ./"
      ],
      "metadata": {
        "colab": {
          "base_uri": "https://localhost:8080/"
        },
        "id": "UHzjDPwa4JFZ",
        "outputId": "b2c5589c-06fe-4f02-a389-c1b762ee162f"
      },
      "execution_count": 5,
      "outputs": [
        {
          "output_type": "stream",
          "name": "stdout",
          "text": [
            "Traceback (most recent call last):\n",
            "  File \"/usr/local/bin/gpaw\", line 8, in <module>\n",
            "    sys.exit(main())\n",
            "  File \"/usr/local/lib/python3.10/dist-packages/gpaw/cli/main.py\", line 78, in main\n",
            "    ase_main('gpaw', 'GPAW command-line tool', __version__,\n",
            "  File \"/usr/local/lib/python3.10/dist-packages/ase/cli/main.py\", line 104, in main\n",
            "    f(args, parsers[args.command])\n",
            "  File \"/usr/local/lib/python3.10/dist-packages/gpaw/cli/install_data.py\", line 90, in run\n",
            "    main(args, parser)\n",
            "  File \"/usr/local/lib/python3.10/dist-packages/gpaw/cli/install_data.py\", line 113, in main\n",
            "    urls = get_urls(args.source)\n",
            "  File \"/usr/local/lib/python3.10/dist-packages/gpaw/cli/install_data.py\", line 252, in get_urls\n",
            "    response = urlopen_nocertcheck(page)\n",
            "  File \"/usr/local/lib/python3.10/dist-packages/gpaw/cli/install_data.py\", line 49, in urlopen_nocertcheck\n",
            "    return urlopen(src, context=ctx)\n",
            "  File \"/usr/lib/python3.10/urllib/request.py\", line 216, in urlopen\n",
            "    return opener.open(url, data, timeout)\n",
            "  File \"/usr/lib/python3.10/urllib/request.py\", line 525, in open\n",
            "    response = meth(req, response)\n",
            "  File \"/usr/lib/python3.10/urllib/request.py\", line 634, in http_response\n",
            "    response = self.parent.error(\n",
            "  File \"/usr/lib/python3.10/urllib/request.py\", line 557, in error\n",
            "    result = self._call_chain(*args)\n",
            "  File \"/usr/lib/python3.10/urllib/request.py\", line 496, in _call_chain\n",
            "    result = func(*args)\n",
            "  File \"/usr/lib/python3.10/urllib/request.py\", line 749, in http_error_302\n",
            "    return self.parent.open(new, timeout=req.timeout)\n",
            "  File \"/usr/lib/python3.10/urllib/request.py\", line 525, in open\n",
            "    response = meth(req, response)\n",
            "  File \"/usr/lib/python3.10/urllib/request.py\", line 634, in http_response\n",
            "    response = self.parent.error(\n",
            "  File \"/usr/lib/python3.10/urllib/request.py\", line 563, in error\n",
            "    return self._call_chain(*args)\n",
            "  File \"/usr/lib/python3.10/urllib/request.py\", line 496, in _call_chain\n",
            "    result = func(*args)\n",
            "  File \"/usr/lib/python3.10/urllib/request.py\", line 643, in http_error_default\n",
            "    raise HTTPError(req.full_url, code, msg, hdrs, fp)\n",
            "urllib.error.HTTPError: HTTP Error 403: Forbidden\n"
          ]
        }
      ]
    },
    {
      "cell_type": "code",
      "source": [
        "import os\n",
        "import gzip\n",
        "import shutil\n",
        "\n",
        "# Define the path to the setup files\n",
        "setup_path = '/content/gpaw-setups-24.1.0'\n",
        "\n",
        "# Uncompress all .gz files in the setup directory\n",
        "for filename in os.listdir(setup_path):\n",
        "    if filename.endswith('.gz'):\n",
        "        filepath = os.path.join(setup_path, filename)\n",
        "        with gzip.open(filepath, 'rb') as f_in:\n",
        "            with open(filepath[:-3], 'wb') as f_out:\n",
        "                shutil.copyfileobj(f_in, f_out)\n",
        "\n",
        "# List the files after uncompressing to ensure the process completed successfully\n",
        "print(\"Files in setup directory after uncompressing:\", os.listdir(setup_path))\n",
        "\n",
        "# Set the GPAW_SETUP_PATH environment variable\n",
        "os.environ['GPAW_SETUP_PATH'] = setup_path\n",
        "\n",
        "# Verify the environment variable\n",
        "print(\"GPAW_SETUP_PATH:\", os.environ['GPAW_SETUP_PATH'])\n",
        "\n"
      ],
      "metadata": {
        "id": "ZOhRvZ2n59zU",
        "outputId": "09bedf31-c4a4-4f3d-91d6-105c9d095e1c",
        "colab": {
          "base_uri": "https://localhost:8080/"
        }
      },
      "execution_count": null,
      "outputs": [
        {
          "output_type": "stream",
          "name": "stdout",
          "text": [
            "Files in setup directory after uncompressing: ['Cr.LDA', 'Te.16.dzp.basis', 'Zr.RPBE', 'K.GLLBSC.gz', 'V.LDA.gz', 'Re.LDA.gz', 'Sc.dzp.basis.gz', 'Sc.RPBE.gz', 'S.LDA', 'Te.PBE.gz', 'Y.revPBE.gz', 'Ta.revPBE', 'Ir.GLLBSC', 'Ba.revPBE', 'Cr.14.PBE', 'Cs.LDA', 'F.RPBE', 'Be.dzp.basis', 'Nb.5.LDA.gz', 'Pd.RPBE', 'Na.1.RPBE', 'Si.dzp.basis.gz', 'Nb.RPBE.gz', 'Cs.GLLBSC.gz', 'Kr.LDA', 'Mg.2.revPBE.gz', 'Se.dzp.basis.gz', 'Br.PBE.gz', 'Mn.7.PBE.gz', 'As.PBE', 'Pb.PBE.gz', 'Ni.dzp.basis.gz', 'Ta.5.revPBE.gz', 'Hg.dzp.basis', 'As.RPBE', 'Pd.10.dzp.basis.gz', 'Y.GLLBSC', 'He.RPBE', 'V.5.revPBE.gz', 'Hg.LDA.gz', 'Rb.RPBE.gz', 'K.LDA', 'As.LDA.gz', 'Bi.RPBE', 'Al.revPBE.gz', 'Fe.GLLBSC.gz', 'Na.1.GLLBSC.gz', 'Ir.PBE.gz', 'Li.LDA', 'I.LDA', 'Cu.RPBE.gz', 'Tl.dzp.basis.gz', 'Fe.LDA.gz', 'Mo.LDA', 'C.RPBE.gz', 'Ru.8.GLLBSC', 'B.dzp.basis', 'Xe.GLLBSC', 'Hf.dzp.basis', 'H.PBE.gz', 'Re.dzp.basis.gz', 'Sn.GLLBSC', 'Te.PBE', 'Hg.RPBE', 'Pt.dzp.basis', 'P.LDA.gz', 'Si.PBE', 'Ba.LDA.gz', 'Ti.dzp.basis', 'Ir.9.GLLBSC.gz', 'Cr.PBE.gz', 'O.PBE', 'Au.PBE.gz', 'Nb.5.dzp.basis', 'Rh.RPBE', 'F.revPBE', 'Ni.10.revPBE', 'Os.revPBE', 'Ga.LDA', 'Pb.GLLBSC', 'H.dzp.basis.gz', 'Ag.GLLBSC', 'Pd.PBE.gz', 'C.LDA', 'B.LDA.gz', 'Pt.RPBE', 'Os.8.GLLBSC.gz', 'Mg.RPBE', 'Sc.RPBE', 'Li.revPBE.gz', 'Sr.GLLBSC', 'Se.revPBE', 'Cs.RPBE', 'Sr.GLLBSC.gz', 'Al.RPBE.gz', 'Ag.PBE.gz', 'Rn.dzp.basis.gz', 'K.revPBE', 'Ag.11.RPBE.gz', 'Sn.revPBE.gz', 'Sn.dzp.basis', 'Sn.PBE', 'S.PBE.gz', 'Pt.10.PBE.gz', 'Mn.7.revPBE', 'Ta.5.revPBE', 'Nb.5.RPBE.gz', 'As.PBE.gz', 'Ru.8.LDA', 'Mg.2.revPBE', 'Sb.revPBE.gz', 'As.GLLBSC', 'Kr.GLLBSC', 'Be.PBE', 'Zn.LDA', 'Te.16.GLLBSC', 'Bi.revPBE.gz', 'Li.RPBE', 'Ir.PBE', 'Rn.dzp.basis', 'Sr.LDA', 'I.revPBE.gz', 'Cl.revPBE', 'Al.PBE', 'Xe.dzp.basis.gz', 'Te.16.revPBE', 'Zn.GLLBSC', 'N.dzp.basis.gz', 'Mo.6.revPBE', 'Au.LDA', 'Co.dzp.basis.gz', 'Ta.5.dzp.basis.gz', 'Rb.GLLBSC.gz', 'Rn.GLLBSC.gz', 'Mo.PBE', 'C.LDA.gz', 'Y.PBE', 'B.RPBE.gz', 'Ru.dzp.basis', 'Al.GLLBSC.gz', 'Si.GLLBSC.gz', 'Mn.7.revPBE.gz', 'He.RPBE.gz', 'Cu.GLLBSC', 'Rn.LDA', 'Sb.PBE.gz', 'Hg.RPBE.gz', 'He.dzp.basis.gz', 'F.GLLBSC', 'O.revPBE.gz', 'Ru.revPBE', 'Na.revPBE.gz', 'Nb.revPBE', 'Ag.11.GLLBSC.gz', 'F.GLLBSC.gz', 'Ti.dzp.basis.gz', 'Te.GLLBSC.gz', 'Rn.PBE.gz', 'Re.LDA', 'Cd.PBE.gz', 'Pd.dzp.basis', 'Ar.PBE.gz', 'Au.revPBE.gz', 'Cl.revPBE.gz', 'W.LDA.gz', 'N.LDA', 'Se.revPBE.gz', 'Si.dzp.basis', 'P.revPBE.gz', 'Xe.PBE.gz', 'Sn.PBE.gz', 'Ne.PBE', 'V.5.PBE.gz', 'Be.PBE.gz', 'N.LDA.gz', 'Tl.RPBE', 'Zr.PBE.gz', 'I.RPBE.gz', 'Ne.RPBE.gz', 'Se.LDA', 'Na.1.revPBE.gz', 'Cs.GLLBSC', 'Ni.PBE', 'Ag.11.dzp.basis.gz', 'V.revPBE', 'Ru.LDA', 'Ga.GLLBSC', 'P.PBE', 'Pb.dzp.basis.gz', 'Cd.PBE', 'Ca.RPBE', 'Rb.PBE', 'Se.GLLBSC', 'Pd.LDA', 'Ag.11.GLLBSC', 'Hf.RPBE.gz', 'Cl.RPBE', 'Sc.GLLBSC', 'Os.8.RPBE', 'Sc.revPBE', 'W.6.dzp.basis', 'Au.RPBE', 'Pt.10.PBE', 'COPYING', 'B.GLLBSC.gz', 'Re.PBE.gz', 'Te.16.PBE', 'Sn.LDA.gz', 'Mo.RPBE.gz', 'Ta.dzp.basis', 'Cs.dzp.basis', 'Fe.RPBE', 'W.dzp.basis', 'Zr.PBE', 'Ir.9.dzp.basis', 'Rn.PBE', 'Ne.revPBE', 'Mn.dzp.basis', 'Ba.dzp.basis', 'Pt.LDA.gz', 'Sn.dzp.basis.gz', 'Be.RPBE.gz', 'Ag.dzp.basis', 'Y.GLLBSC.gz', 'Ir.RPBE.gz', 'Cu.LDA.gz', 'W.GLLBSC', 'Re.revPBE', 'Ta.5.LDA', 'Sc.PBE.gz', 'Sb.revPBE', 'Ir.RPBE', 'Al.PBE.gz', 'B.dzp.basis.gz', 'Rn.RPBE.gz', 'Sr.PBE', 'Au.GLLBSC.gz', 'Rh.RPBE.gz', 'Os.PBE.gz', 'Te.16.LDA', 'Rh.revPBE', 'Nb.5.revPBE', 'B.PBE.gz', 'O.dzp.basis.gz', 'Ru.PBE', 'W.GLLBSC.gz', 'Zr.RPBE.gz', 'Rh.GLLBSC', 'He.LDA.gz', 'I.PBE.gz', 'Rn.GLLBSC', 'Na.1.LDA.gz', 'Re.PBE', 'Te.LDA.gz', 'Cu.dzp.basis.gz', 'Kr.PBE.gz', 'Ag.revPBE.gz', 'Li.GLLBSC', 'Nb.5.PBE.gz', 'Mg.GLLBSC', 'Ba.RPBE.gz', 'Rb.GLLBSC', 'Cd.dzp.basis', 'Ni.10.LDA.gz', 'Ni.GLLBSC.gz', 'Pt.10.RPBE', 'Cr.RPBE.gz', 'Ir.9.PBE.gz', 'Be.LDA', 'Ga.RPBE', 'Ta.5.GLLBSC', 'Ta.5.GLLBSC.gz', 'Os.8.PBE.gz', 'Na.1.PBE', 'Ge.LDA', 'F.revPBE.gz', 'Ir.9.PBE', 'Zr.LDA.gz', 'Nb.dzp.basis', 'Be.dzp.basis.gz', 'Br.RPBE.gz', 'Ni.revPBE', 'Ni.dzp.basis', 'Sr.PBE.gz', 'Rh.PBE.gz', 'Rh.GLLBSC.gz', 'Na.revPBE', 'Ti.LDA.gz', 'Ir.9.revPBE.gz', 'Pd.10.RPBE', 'Al.dzp.basis', 'He.PBE.gz', 'Cs.PBE', 'Ge.revPBE', 'Ta.GLLBSC', 'Mg.2.dzp.basis', 'P.LDA', 'Cu.LDA', 'Li.revPBE', 'Ni.LDA', 'Ni.10.LDA', 'Mg.2.dzp.basis.gz', 'Xe.GLLBSC.gz', 'Te.16.RPBE', 'Ir.9.LDA', 'Tl.LDA.gz', 'As.GLLBSC.gz', 'Cd.GLLBSC', 'Au.GLLBSC', 'Ti.PBE.gz', 'Ir.LDA.gz', 'Cr.GLLBSC.gz', 'Ni.10.RPBE.gz', 'Na.PBE', 'B.RPBE', 'V.5.dzp.basis', 'Cu.revPBE.gz', 'Se.PBE.gz', 'Ba.GLLBSC.gz', 'Al.GLLBSC', 'Ru.dzp.basis.gz', 'Te.GLLBSC', 'C.PBE', 'Te.dzp.basis', 'Sc.dzp.basis', 'Pd.revPBE.gz', 'Pb.revPBE.gz', 'Ca.revPBE.gz', 'Re.revPBE.gz', 'Ag.11.revPBE.gz', 'Mo.6.GLLBSC.gz', 'Bi.GLLBSC', 'W.6.PBE', 'Os.dzp.basis.gz', 'Ca.PBE', 'In.LDA', 'Te.RPBE', 'Bi.dzp.basis.gz', 'Ag.RPBE.gz', 'Kr.revPBE', 'Au.dzp.basis.gz', 'C.GLLBSC', 'Ne.dzp.basis.gz', 'Se.PBE', 'Pd.10.GLLBSC.gz', 'I.LDA.gz', 'Rh.9.revPBE.gz', 'Ag.11.revPBE', 'Mn.LDA.gz', 'H.PBE', 'Nb.PBE', 'Nb.GLLBSC.gz', 'Ta.GLLBSC.gz', 'Ir.9.dzp.basis.gz', 'Y.PBE.gz', 'Pt.LDA', 'In.GLLBSC.gz', 'V.revPBE.gz', 'Ge.RPBE.gz', 'Kr.RPBE.gz', 'As.dzp.basis', 'In.LDA.gz', 'Ti.revPBE.gz', 'O.LDA', 'Y.LDA', 'F.RPBE.gz', 'Pb.revPBE', 'Ga.PBE.gz', 'Rh.revPBE.gz', 'K.dzp.basis', 'V.5.LDA', 'Fe.GLLBSC', 'O.revPBE', 'Hf.PBE.gz', 'Cr.14.dzp.basis', 'Fe.PBE.gz', 'P.RPBE.gz', 'V.PBE.gz', 'Pt.GLLBSC', 'Ta.dzp.basis.gz', 'P.dzp.basis', 'Cd.revPBE.gz', 'Ca.PBE.gz', 'Pd.10.RPBE.gz', 'Te.revPBE.gz', 'O.RPBE.gz', 'Sb.GLLBSC', 'Cd.LDA.gz', 'Kr.dzp.basis.gz', 'Li.GLLBSC.gz', 'Au.PBE', 'Ag.PBE', 'Ne.PBE.gz', 'Cr.PBE', 'Ar.LDA.gz', 'Zr.dzp.basis', 'Mn.7.dzp.basis.gz', 'P.GLLBSC.gz', 'He.GLLBSC', 'Ne.dzp.basis', 'Ti.GLLBSC', 'S.dzp.basis', 'Pd.10.PBE', 'Cd.RPBE', 'S.LDA.gz', 'Sc.revPBE.gz', 'Zn.dzp.basis.gz', 'Rn.revPBE.gz', 'Br.PBE', 'Mn.PBE', 'Mn.7.RPBE.gz', 'Bi.revPBE', 'Ar.GLLBSC', 'Ni.10.dzp.basis', 'Os.revPBE.gz', 'Ir.dzp.basis', 'Hf.LDA', 'F.LDA.gz', 'Ga.dzp.basis.gz', 'Fe.dzp.basis.gz', 'Ni.10.RPBE', 'Ba.LDA', 'Os.8.LDA.gz', 'In.PBE.gz', 'Pb.dzp.basis', 'Ge.LDA.gz', 'Rh.9.GLLBSC.gz', 'Cl.PBE', 'Co.dzp.basis', 'Ru.8.PBE', 'V.5.LDA.gz', 'Cr.revPBE.gz', 'V.RPBE', 'Os.GLLBSC.gz', 'H.LDA', 'Tl.PBE.gz', 'Mg.PBE', 'C.revPBE.gz', 'Na.1.RPBE.gz', 'Ir.9.revPBE', 'Cr.dzp.basis.gz', 'Mo.dzp.basis.gz', 'Ta.5.PBE', 'Mo.6.LDA.gz', 'Ti.PBE', 'Tl.dzp.basis', 'Mg.2.LDA', 'S.RPBE.gz', 'Pd.GLLBSC.gz', 'Ru.8.PBE.gz', 'Cu.GLLBSC.gz', 'Ge.dzp.basis', 'S.GLLBSC', 'Os.8.dzp.basis.gz', 'Pd.revPBE', 'Na.dzp.basis', 'Ti.RPBE.gz', 'Ru.8.RPBE', 'Pt.10.GLLBSC.gz', 'W.6.revPBE', 'Pt.GLLBSC.gz', 'Ti.revPBE', 'Rb.dzp.basis.gz', 'N.GLLBSC.gz', 'N.revPBE', 'Te.16.PBE.gz', 'Ru.8.RPBE.gz', 'Ru.8.GLLBSC.gz', 'Pt.10.revPBE', 'Co.GLLBSC', 'Hg.LDA', 'Mn.RPBE', 'Si.GLLBSC', 'As.revPBE', 'Br.revPBE.gz', 'Ni.RPBE', 'Zr.revPBE.gz', 'Os.GLLBSC', 'Pd.10.revPBE', 'N.dzp.basis', 'V.5.RPBE', 'Bi.PBE.gz', 'Sc.GLLBSC.gz', 'K.GLLBSC', 'Ta.LDA', 'Pd.LDA.gz', 'Ca.LDA', 'Ge.GLLBSC.gz', 'Nb.5.revPBE.gz', 'Pd.10.PBE.gz', 'Rh.9.LDA', 'Br.dzp.basis', 'W.6.LDA.gz', 'Mg.RPBE.gz', 'Cd.dzp.basis.gz', 'Ar.GLLBSC.gz', 'Hf.PBE', 'Pt.10.revPBE.gz', 'Ni.10.GLLBSC', 'Mo.revPBE', 'Ag.RPBE', 'Cl.GLLBSC', 'Ir.dzp.basis.gz', 'K.PBE', 'Ge.revPBE.gz', 'Xe.revPBE.gz', 'Sb.dzp.basis', 'As.revPBE.gz', 'Be.RPBE', 'Si.RPBE', 'Ca.GLLBSC.gz', 'Br.RPBE', 'In.GLLBSC', 'Ge.dzp.basis.gz', 'Re.RPBE.gz', 'H.revPBE.gz', 'Pd.GLLBSC', 'Rb.LDA', 'Sr.dzp.basis.gz', 'Ru.8.revPBE.gz', 'Pt.10.LDA', 'Pd.10.LDA', 'Ni.GLLBSC', 'Os.dzp.basis', 'Mn.7.GLLBSC.gz', 'Nb.dzp.basis.gz', 'Ba.PBE.gz', 'Al.LDA.gz', 'Pt.10.GLLBSC', 'Al.RPBE', 'Ru.8.LDA.gz', 'Os.8.dzp.basis', 'Na.dzp.basis.gz', 'Ar.RPBE', 'Ir.LDA', 'In.PBE', 'Ni.10.PBE.gz', 'Pt.revPBE', 'W.6.revPBE.gz', 'Ni.10.PBE', 'W.PBE', 'Pt.revPBE.gz', 'Ti.RPBE', 'Ni.10.GLLBSC.gz', 'Cs.PBE.gz', 'Zn.dzp.basis', 'Al.dzp.basis.gz', 'Ar.RPBE.gz', 'Ar.revPBE.gz', 'Os.8.GLLBSC', 'Ta.RPBE.gz', 'Ir.9.LDA.gz', 'Mn.7.PBE', 'Ni.revPBE.gz', 'W.PBE.gz', 'Bi.PBE', 'Sn.RPBE.gz', 'Se.RPBE', 'Bi.LDA.gz', 'Sr.RPBE.gz', 'Zn.RPBE', 'Ba.dzp.basis.gz', 'Cl.dzp.basis', 'Ru.RPBE.gz', 'Fe.revPBE', 'V.5.PBE', 'Ta.5.dzp.basis', 'Cs.dzp.basis.gz', 'Ag.11.dzp.basis', 'Cl.LDA.gz', 'In.dzp.basis.gz', 'Zr.GLLBSC.gz', 'Ne.LDA', 'Rh.9.LDA.gz', 'V.5.GLLBSC.gz', 'B.revPBE', 'Ru.8.dzp.basis.gz', 'Kr.dzp.basis', 'Pd.dzp.basis.gz', 'Co.revPBE.gz', 'Y.dzp.basis', 'Al.revPBE', 'Br.GLLBSC.gz', 'Na.1.dzp.basis.gz', 'Rn.RPBE', 'Ru.RPBE', 'S.revPBE.gz', 'I.dzp.basis', 'Kr.LDA.gz', 'Fe.PBE', 'Ar.LDA', 'K.RPBE', 'Sb.LDA', 'F.dzp.basis.gz', 'He.revPBE.gz', 'Hf.GLLBSC.gz', 'Cl.PBE.gz', 'Re.GLLBSC', 'Bi.LDA', 'Li.PBE', 'Ba.revPBE.gz', 'Rb.RPBE', 'Sr.RPBE', 'Ga.PBE', 'Nb.PBE.gz', 'C.GLLBSC.gz', 'Sn.GLLBSC.gz', 'Pb.LDA.gz', 'Ta.5.PBE.gz', 'Ni.10.dzp.basis.gz', 'Cs.RPBE.gz', 'He.LDA', 'Re.GLLBSC.gz', 'Si.revPBE.gz', 'Nb.5.GLLBSC', 'Zn.revPBE.gz', 'Nb.RPBE', 'Bi.RPBE.gz', 'N.RPBE.gz', 'As.LDA', 'Hg.GLLBSC', 'Ta.revPBE.gz', 'S.PBE', 'Cu.dzp.basis', 'Rh.9.dzp.basis.gz', 'In.revPBE.gz', 'Mo.PBE.gz', 'Hf.revPBE.gz', 'Os.8.RPBE.gz', 'Ga.revPBE', 'He.GLLBSC.gz', 'Na.1.revPBE', 'Os.8.PBE', 'Y.dzp.basis.gz', 'LICENSE', 'W.RPBE', 'Ag.LDA', 'Cr.14.PBE.gz', 'Te.16.revPBE.gz', 'Ar.PBE', 'Kr.PBE', 'Ag.dzp.basis.gz', 'N.PBE', 'Ge.PBE.gz', 'W.revPBE.gz', 'H.GLLBSC', 'Mn.7.LDA', 'B.GLLBSC', 'Cd.revPBE', 'Te.16.GLLBSC.gz', 'Cl.RPBE.gz', 'Rh.9.dzp.basis', 'Co.LDA', 'Hf.revPBE', 'Xe.revPBE', 'B.PBE', 'Cs.LDA.gz', 'Cu.PBE', 'Ir.GLLBSC.gz', 'O.RPBE', 'Mn.dzp.basis.gz', 'K.PBE.gz', 'Ba.GLLBSC', 'Os.8.revPBE.gz', 'Br.GLLBSC', 'Mo.6.revPBE.gz', 'Cr.LDA.gz', 'I.GLLBSC.gz', 'Si.RPBE.gz', 'W.6.RPBE.gz', 'Te.RPBE.gz', 'Au.revPBE', 'O.GLLBSC.gz', 'W.6.RPBE', 'Ru.8.dzp.basis', 'Os.8.revPBE', 'Ti.LDA', 'Ag.11.LDA', 'Be.LDA.gz', 'Cl.dzp.basis.gz', 'Br.revPBE', 'Ne.GLLBSC', 'Y.revPBE', 'Mg.revPBE.gz', 'Cl.GLLBSC.gz', 'Mg.2.RPBE', 'Rh.9.revPBE', 'Os.LDA.gz', 'Mo.GLLBSC', 'Ag.11.PBE.gz', 'Pt.dzp.basis.gz', 'I.revPBE', 'Mo.6.RPBE', 'I.RPBE', 'Mo.6.PBE.gz', 'Rb.revPBE.gz', 'Se.LDA.gz', 'Zr.LDA', 'Mn.7.LDA.gz', 'Nb.5.RPBE', 'Na.GLLBSC.gz', 'Ir.9.GLLBSC', 'Ti.GLLBSC.gz', 'W.6.GLLBSC.gz', 'Rh.LDA.gz', 'Na.LDA', 'Ca.LDA.gz', 'Si.PBE.gz', 'Cr.14.LDA.gz', 'Na.1.dzp.basis', 'Rh.dzp.basis.gz', 'Ne.LDA.gz', 'Sb.GLLBSC.gz', 'K.LDA.gz', 'W.dzp.basis.gz', 'Rh.9.PBE.gz', 'Nb.LDA', 'Kr.RPBE', 'I.dzp.basis.gz', 'Zn.RPBE.gz', 'C.revPBE', 'Tl.revPBE.gz', 'Hf.dzp.basis.gz', 'Au.LDA.gz', 'Mg.2.RPBE.gz', 'Pt.10.dzp.basis.gz', 'As.RPBE.gz', 'Na.GLLBSC', 'Sb.RPBE', 'Na.1.LDA', 'Ne.GLLBSC.gz', 'Se.GLLBSC.gz', 'Tl.LDA', 'Li.PBE.gz', 'P.GLLBSC', 'P.PBE.gz', 'He.dzp.basis', 'Hg.revPBE.gz', 'Te.revPBE', 'F.PBE', 'Mo.6.GLLBSC', 'Rb.PBE.gz', 'Ta.5.RPBE', 'Tl.PBE', 'Mo.6.dzp.basis.gz', 'Ta.RPBE', 'S.dzp.basis.gz', 'Ca.revPBE', 'V.5.dzp.basis.gz', 'Pt.10.RPBE.gz', 'Be.revPBE', 'Co.RPBE.gz', 'Nb.GLLBSC', 'Xe.RPBE.gz', 'Os.RPBE.gz', 'Na.PBE.gz', 'Ni.10.revPBE.gz', 'Nb.LDA.gz', 'Ag.GLLBSC.gz', 'V.5.RPBE.gz', 'Sb.LDA.gz', 'Ag.11.RPBE', 'Pb.RPBE', 'Mg.2.GLLBSC.gz', 'Sr.LDA.gz', 'C.dzp.basis.gz', 'V.RPBE.gz', 'Ga.GLLBSC.gz', 'Ar.dzp.basis', 'N.RPBE', 'Si.LDA', 'Cr.14.dzp.basis.gz', 'Mg.dzp.basis', 'Ba.RPBE', 'Rn.LDA.gz', 'Li.RPBE.gz', 'Ca.dzp.basis', 'Mg.dzp.basis.gz', 'Xe.LDA.gz', 'Mo.6.LDA', 'P.RPBE', 'C.dzp.basis', 'W.revPBE', 'Ag.11.PBE', 'Mg.2.GLLBSC', 'Pd.10.LDA.gz', 'Mo.6.dzp.basis', 'Se.dzp.basis', 'Ag.revPBE', 'Ge.PBE', 'Ag.LDA.gz', 'Pd.10.GLLBSC', 'Ta.LDA.gz', 'Mn.7.dzp.basis', 'K.revPBE.gz', 'Ge.RPBE', 'Pd.RPBE.gz', 'Ir.revPBE', 'Cl.LDA', 'phi-0.500-1.000-20.000-21-201.txt', 'Hf.RPBE', 'V.dzp.basis', 'Te.16.LDA.gz', 'Ru.GLLBSC', 'Cs.revPBE', 'Sr.revPBE', 'Na.RPBE', 'Nb.5.GLLBSC.gz', 'Na.LDA.gz', 'Ca.RPBE.gz', 'Ga.RPBE.gz', 'Mo.RPBE', 'W.6.dzp.basis.gz', 'Cu.PBE.gz', 'Re.dzp.basis', 'Os.8.LDA', 'O.dzp.basis', 'V.LDA', 'Cd.GLLBSC.gz', 'Cu.revPBE', 'Fe.LDA', 'N.PBE.gz', 'Nb.5.PBE', 'Rh.PBE', 'Sc.PBE', 'Zn.PBE', 'Ta.PBE.gz', 'In.dzp.basis', 'Sn.LDA', 'Mo.dzp.basis', 'S.RPBE', 'Pt.PBE', 'Tl.GLLBSC.gz', 'Au.dzp.basis', 'He.revPBE', 'Xe.dzp.basis', 'Fe.dzp.basis', 'Li.dzp.basis', 'Bi.GLLBSC.gz', 'O.GLLBSC', 'Pb.PBE', 'V.GLLBSC.gz', 'Cr.GLLBSC', 'Nb.revPBE.gz', 'Cr.dzp.basis', 'V.5.revPBE', 'H.RPBE.gz', 'Ni.PBE.gz', 'Al.LDA', 'Zn.LDA.gz', 'Co.GLLBSC.gz', 'W.RPBE.gz', 'V.GLLBSC', 'Na.1.PBE.gz', 'Ne.revPBE.gz', 'Ga.LDA.gz', 'Zn.revPBE', 'Rh.9.RPBE', 'W.LDA', 'Bi.dzp.basis', 'V.PBE', 'Hf.GLLBSC', 'Mg.revPBE', 'Zn.GLLBSC.gz', 'Ru.8.revPBE', 'Pb.GLLBSC.gz', 'Nb.5.dzp.basis.gz', 'Be.GLLBSC', 'Rh.9.PBE', 'Xe.PBE', 'Os.RPBE', 'Pt.10.dzp.basis', 'Rn.revPBE', 'Y.RPBE', 'H.dzp.basis', 'Rh.9.GLLBSC', 'Ne.RPBE', 'Ru.revPBE.gz', 'Te.16.dzp.basis.gz', 'Pb.RPBE.gz', 'Li.dzp.basis.gz', 'Br.LDA.gz', 'Mg.GLLBSC.gz', 'Mo.revPBE.gz', 'Mn.7.GLLBSC', 'Sb.dzp.basis.gz', 'H.revPBE', 'In.RPBE.gz', 'Mg.LDA.gz', 'Au.RPBE.gz', 'Be.GLLBSC.gz', 'O.LDA.gz', 'C.RPBE', 'Mn.GLLBSC', 'Y.RPBE.gz', 'Mg.PBE.gz', 'Cd.RPBE.gz', 'Co.RPBE', 'Cu.RPBE', 'Mn.revPBE.gz', 'Pd.PBE', 'F.LDA', 'Mn.revPBE', 'Cr.RPBE', 'Co.LDA.gz', 'Mn.GLLBSC.gz', 'Mg.2.PBE.gz', 'Pt.10.LDA.gz', 'Cs.revPBE.gz', 'P.revPBE', 'Re.RPBE', 'Na.1.GLLBSC', 'Mg.2.PBE', 'Pd.10.dzp.basis', 'Ta.PBE', 'Cr.revPBE', 'Xe.RPBE', 'H.GLLBSC.gz', 'Mg.2.LDA.gz', 'In.RPBE', 'Pb.LDA', 'Pd.10.revPBE.gz', 'Rh.LDA', 'Co.PBE', 'Ir.9.RPBE.gz', 'Si.revPBE', 'W.6.PBE.gz', 'Sc.LDA', 'Te.dzp.basis.gz', 'Li.LDA.gz', 'Os.LDA', 'Sn.RPBE', 'Ta.5.LDA.gz', 'Tl.revPBE', 'Sn.revPBE', 'Si.LDA.gz', 'Mo.6.RPBE.gz', 'Rb.dzp.basis', 'Tl.RPBE.gz', 'S.revPBE', 'Hg.PBE.gz', 'Br.LDA', 'Te.LDA', 'phi-0.500-1.000-20.000-21-201.pckl', 'N.GLLBSC', 'Co.revPBE', 'Ga.revPBE.gz', 'W.6.GLLBSC', 'Fe.RPBE.gz', 'N.revPBE.gz', 'Sc.LDA.gz', 'Sb.PBE', 'O.PBE.gz', 'Fe.revPBE.gz', 'Tl.GLLBSC', 'Ar.dzp.basis.gz', 'I.PBE', 'Mn.PBE.gz', 'Ni.LDA.gz', 'Zn.PBE.gz', 'Se.RPBE.gz', 'Ca.GLLBSC', 'H.LDA.gz', 'Kr.GLLBSC.gz', 'Na.RPBE.gz', 'Xe.LDA', 'Ar.revPBE', 'P.dzp.basis.gz', 'Hf.LDA.gz', 'Zr.revPBE', 'Mo.GLLBSC.gz', 'Mo.6.PBE', 'Ni.RPBE.gz', 'B.LDA', 'Kr.revPBE.gz', 'Hg.PBE', 'Rh.9.RPBE.gz', 'Ge.GLLBSC', 'Mg.LDA', 'K.RPBE.gz', 'Ta.5.RPBE.gz', 'V.dzp.basis.gz', 'Mn.7.RPBE', 'Te.16.RPBE.gz', 'Y.LDA.gz', 'Br.dzp.basis.gz', 'S.GLLBSC.gz', 'Ag.11.LDA.gz', 'Nb.5.LDA', 'Rh.dzp.basis', 'Co.PBE.gz', 'Hg.dzp.basis.gz', 'H.RPBE', 'Cd.LDA', 'Ca.dzp.basis.gz', 'Mn.LDA', 'Zr.GLLBSC', 'Sb.RPBE.gz', 'Ba.PBE', 'He.PBE', 'Pt.PBE.gz', 'K.dzp.basis.gz', 'Os.PBE', 'Ir.revPBE.gz', 'Mn.RPBE.gz', 'Cr.14.LDA', 'Hg.revPBE', 'Rb.LDA.gz', 'Zr.dzp.basis.gz', 'Pt.RPBE.gz', 'As.dzp.basis.gz', 'Hg.GLLBSC.gz', 'C.PBE.gz', 'Ru.GLLBSC.gz', 'In.revPBE', 'Rb.revPBE', 'Ru.LDA.gz', 'V.5.GLLBSC', 'Sr.dzp.basis', 'F.PBE.gz', 'Ru.PBE.gz', 'W.6.LDA', 'Mo.LDA.gz', 'I.GLLBSC', 'B.revPBE.gz', 'F.dzp.basis', 'Ir.9.RPBE', 'Ga.dzp.basis', 'Be.revPBE.gz', 'Sr.revPBE.gz']\n",
            "GPAW_SETUP_PATH: /content/gpaw-setups-24.1.0\n"
          ]
        }
      ]
    },
    {
      "cell_type": "markdown",
      "source": [
        "\n",
        "## Atomic Simulation Environment (ASE)\n",
        "GPAW is well integrated with the Atomic Simulation Environment (ASE), providing a flexible and dynamic user interface"
      ],
      "metadata": {
        "id": "mqU27ehf7qRm"
      }
    },
    {
      "cell_type": "code",
      "source": [
        "!pip install ase"
      ],
      "metadata": {
        "id": "mz2-d8hn7uz0",
        "outputId": "2db0ad58-9bef-46c9-dc08-b0bc72ca7858",
        "colab": {
          "base_uri": "https://localhost:8080/"
        }
      },
      "execution_count": null,
      "outputs": [
        {
          "output_type": "stream",
          "name": "stdout",
          "text": [
            "Requirement already satisfied: ase in /usr/local/lib/python3.10/dist-packages (3.23.0)\n",
            "Requirement already satisfied: numpy>=1.18.5 in /usr/local/lib/python3.10/dist-packages (from ase) (1.26.4)\n",
            "Requirement already satisfied: scipy>=1.6.0 in /usr/local/lib/python3.10/dist-packages (from ase) (1.13.1)\n",
            "Requirement already satisfied: matplotlib>=3.3.4 in /usr/local/lib/python3.10/dist-packages (from ase) (3.7.1)\n",
            "Requirement already satisfied: contourpy>=1.0.1 in /usr/local/lib/python3.10/dist-packages (from matplotlib>=3.3.4->ase) (1.3.0)\n",
            "Requirement already satisfied: cycler>=0.10 in /usr/local/lib/python3.10/dist-packages (from matplotlib>=3.3.4->ase) (0.12.1)\n",
            "Requirement already satisfied: fonttools>=4.22.0 in /usr/local/lib/python3.10/dist-packages (from matplotlib>=3.3.4->ase) (4.53.1)\n",
            "Requirement already satisfied: kiwisolver>=1.0.1 in /usr/local/lib/python3.10/dist-packages (from matplotlib>=3.3.4->ase) (1.4.7)\n",
            "Requirement already satisfied: packaging>=20.0 in /usr/local/lib/python3.10/dist-packages (from matplotlib>=3.3.4->ase) (24.1)\n",
            "Requirement already satisfied: pillow>=6.2.0 in /usr/local/lib/python3.10/dist-packages (from matplotlib>=3.3.4->ase) (10.4.0)\n",
            "Requirement already satisfied: pyparsing>=2.3.1 in /usr/local/lib/python3.10/dist-packages (from matplotlib>=3.3.4->ase) (3.1.4)\n",
            "Requirement already satisfied: python-dateutil>=2.7 in /usr/local/lib/python3.10/dist-packages (from matplotlib>=3.3.4->ase) (2.8.2)\n",
            "Requirement already satisfied: six>=1.5 in /usr/local/lib/python3.10/dist-packages (from python-dateutil>=2.7->matplotlib>=3.3.4->ase) (1.16.0)\n"
          ]
        }
      ]
    },
    {
      "cell_type": "code",
      "source": [
        "# Import ASE and GPAW and run your calculation\n",
        "from ase import Atoms\n",
        "from gpaw import GPAW\n",
        "\n",
        "# Define the atomic structure\n",
        "d = 0.74\n",
        "a = 6.0\n",
        "\n",
        "h2 = Atoms('H2',\n",
        "              positions=[(0, 0, 0),\n",
        "                         (0, 0, d)],\n",
        "              cell=(a, a, a))\n",
        "h2.center()\n",
        "# Initialize GPAW calculator without specifying the 'setups' parameter\n",
        "calc = GPAW(mode='fd', nbands=2, txt='h2.txt')\n",
        "h2.calc = calc\n",
        "\n",
        "# Run the calculation\n",
        "print(\"Forces on atoms:\", h2.get_forces())\n",
        "print(\"Energies on atoms:\", h2.get_total_energy())\n"
      ],
      "metadata": {
        "id": "H62nbAHQ3gbP",
        "outputId": "d5e0d2d7-1609-4814-a0d8-b354d956db18",
        "colab": {
          "base_uri": "https://localhost:8080/"
        }
      },
      "execution_count": null,
      "outputs": [
        {
          "output_type": "stream",
          "name": "stdout",
          "text": [
            "Forces on atoms: [[ 0.          0.         -0.84512566]\n",
            " [ 0.          0.          0.84512566]]\n",
            "Energies on atoms: -6.627349275456466\n"
          ]
        }
      ]
    },
    {
      "cell_type": "markdown",
      "source": [
        "## Install POVRAY: visualization of atoms\n",
        "\n",
        "The Persistence of Vision Ray Tracer, most commonly acronymed as POV-Ray, is a cross-platform ray-tracing program that generates images from a text-based scene description."
      ],
      "metadata": {
        "id": "x-D3qC5T8dYY"
      }
    },
    {
      "cell_type": "code",
      "source": [
        "!sudo apt-get install povray  ## visulization program"
      ],
      "metadata": {
        "id": "wCO1NkAB8cDS",
        "outputId": "f002e1d4-ca41-4ea1-b5e9-7684177640f7",
        "colab": {
          "base_uri": "https://localhost:8080/"
        }
      },
      "execution_count": null,
      "outputs": [
        {
          "output_type": "stream",
          "name": "stdout",
          "text": [
            "Reading package lists... Done\n",
            "Building dependency tree... Done\n",
            "Reading state information... Done\n",
            "The following additional packages will be installed:\n",
            "  fonts-povray libsdl1.2debian povray-includes\n",
            "Suggested packages:\n",
            "  povray-doc povray-examples\n",
            "The following NEW packages will be installed:\n",
            "  fonts-povray libsdl1.2debian povray povray-includes\n",
            "0 upgraded, 4 newly installed, 0 to remove and 49 not upgraded.\n",
            "Need to get 1,792 kB of archives.\n",
            "After this operation, 5,199 kB of additional disk space will be used.\n",
            "Get:1 http://archive.ubuntu.com/ubuntu jammy/universe amd64 fonts-povray all 1:3.7.0.10-1 [70.0 kB]\n",
            "Get:2 http://archive.ubuntu.com/ubuntu jammy/universe amd64 libsdl1.2debian amd64 1.2.15+dfsg2-6 [177 kB]\n",
            "Get:3 http://archive.ubuntu.com/ubuntu jammy/universe amd64 povray amd64 1:3.7.0.10-1 [1,312 kB]\n",
            "Get:4 http://archive.ubuntu.com/ubuntu jammy/universe amd64 povray-includes all 1:3.7.0.10-1 [233 kB]\n",
            "Fetched 1,792 kB in 0s (4,761 kB/s)\n",
            "debconf: unable to initialize frontend: Dialog\n",
            "debconf: (No usable dialog-like program is installed, so the dialog based frontend cannot be used. at /usr/share/perl5/Debconf/FrontEnd/Dialog.pm line 78, <> line 4.)\n",
            "debconf: falling back to frontend: Readline\n",
            "debconf: unable to initialize frontend: Readline\n",
            "debconf: (This frontend requires a controlling tty.)\n",
            "debconf: falling back to frontend: Teletype\n",
            "dpkg-preconfigure: unable to re-open stdin: \n",
            "Selecting previously unselected package fonts-povray.\n",
            "(Reading database ... 123740 files and directories currently installed.)\n",
            "Preparing to unpack .../fonts-povray_1%3a3.7.0.10-1_all.deb ...\n",
            "Unpacking fonts-povray (1:3.7.0.10-1) ...\n",
            "Selecting previously unselected package libsdl1.2debian:amd64.\n",
            "Preparing to unpack .../libsdl1.2debian_1.2.15+dfsg2-6_amd64.deb ...\n",
            "Unpacking libsdl1.2debian:amd64 (1.2.15+dfsg2-6) ...\n",
            "Selecting previously unselected package povray.\n",
            "Preparing to unpack .../povray_1%3a3.7.0.10-1_amd64.deb ...\n",
            "Unpacking povray (1:3.7.0.10-1) ...\n",
            "Selecting previously unselected package povray-includes.\n",
            "Preparing to unpack .../povray-includes_1%3a3.7.0.10-1_all.deb ...\n",
            "Unpacking povray-includes (1:3.7.0.10-1) ...\n",
            "Setting up libsdl1.2debian:amd64 (1.2.15+dfsg2-6) ...\n",
            "Setting up fonts-povray (1:3.7.0.10-1) ...\n",
            "Setting up povray (1:3.7.0.10-1) ...\n",
            "Setting up povray-includes (1:3.7.0.10-1) ...\n",
            "Processing triggers for libc-bin (2.35-0ubuntu3.4) ...\n",
            "/sbin/ldconfig.real: /usr/local/lib/libtbbbind.so.3 is not a symbolic link\n",
            "\n",
            "/sbin/ldconfig.real: /usr/local/lib/libur_adapter_level_zero.so.0 is not a symbolic link\n",
            "\n",
            "/sbin/ldconfig.real: /usr/local/lib/libtbbbind_2_0.so.3 is not a symbolic link\n",
            "\n",
            "/sbin/ldconfig.real: /usr/local/lib/libur_loader.so.0 is not a symbolic link\n",
            "\n",
            "/sbin/ldconfig.real: /usr/local/lib/libtbbmalloc_proxy.so.2 is not a symbolic link\n",
            "\n",
            "/sbin/ldconfig.real: /usr/local/lib/libtbb.so.12 is not a symbolic link\n",
            "\n",
            "/sbin/ldconfig.real: /usr/local/lib/libtbbbind_2_5.so.3 is not a symbolic link\n",
            "\n",
            "/sbin/ldconfig.real: /usr/local/lib/libur_adapter_opencl.so.0 is not a symbolic link\n",
            "\n",
            "/sbin/ldconfig.real: /usr/local/lib/libtbbmalloc.so.2 is not a symbolic link\n",
            "\n",
            "Processing triggers for man-db (2.10.2-1) ...\n",
            "Processing triggers for fontconfig (2.13.1-4.2ubuntu5) ...\n"
          ]
        }
      ]
    },
    {
      "cell_type": "code",
      "source": [
        "import os\n",
        "import shutil\n",
        "from ase.io import write  # Import the write function from ASE\n",
        "from PIL import Image\n",
        "from IPython.display import display  # Import display for Jupyter Notebooks\n",
        "\n",
        "\n",
        "def visual(structure, max_size=(200, 200), stretch_y=1.0, rotation='15z,-60x', png_save_path='./'):\n",
        "    renderer = write('./temp.pov', structure, rotation=rotation)\n",
        "    renderer.render()\n",
        "    image_path = './temp.png'\n",
        "    img = Image.open(image_path)\n",
        "\n",
        "    # Calculate new size with stretch factor\n",
        "    new_size = (max_size[0], int(max_size[1] * stretch_y))\n",
        "    img = img.resize(new_size, Image.LANCZOS)\n",
        "    display(img)\n",
        "\n",
        "    # Move files to output directory\n",
        "    files = ['./temp.ini', './temp.pov', './temp.png']\n",
        "    destination = './output/'\n",
        "\n",
        "    # Ensure destination directory exists\n",
        "    os.makedirs(destination, exist_ok=True)\n",
        "\n",
        "    for file in files:\n",
        "        # Remove the file in the destination directory if it exists\n",
        "        if os.path.isfile(os.path.join(destination, os.path.basename(file))):\n",
        "            os.remove(os.path.join(destination, os.path.basename(file)))\n",
        "\n",
        "        if file == './temp.png':\n",
        "            new_file_name = png_save_path + f'temp.png'\n",
        "        else:\n",
        "            new_file_name = os.path.basename(file)\n",
        "        shutil.move(file, os.path.join(destination, new_file_name))\n"
      ],
      "metadata": {
        "id": "RmmT60Pz85A3"
      },
      "execution_count": null,
      "outputs": []
    },
    {
      "cell_type": "code",
      "source": [
        "visual(h2)"
      ],
      "metadata": {
        "id": "j71FXOke9R0j",
        "outputId": "c6b740a5-08a5-4650-af27-b9c1bd6a7d06",
        "colab": {
          "base_uri": "https://localhost:8080/",
          "height": 217
        }
      },
      "execution_count": null,
      "outputs": [
        {
          "output_type": "display_data",
          "data": {
            "text/plain": [
              "<PIL.Image.Image image mode=RGBA size=200x200>"
            ],
            "image/png": "[encoded data removed]"
          },
          "metadata": {}
        }
      ]
    },
    {
      "cell_type": "markdown",
      "source": [
        "## Bulk Calculations"
      ],
      "metadata": {
        "id": "6PWGPwCc86Ug"
      }
    },
    {
      "cell_type": "code",
      "source": [
        "\"\"\"Bulk Al(fcc) test\"\"\"\n",
        "from ase import Atoms\n",
        "from ase.visualize import view\n",
        "from gpaw import GPAW, PW\n",
        "\n",
        "name = 'Al-fcc'\n",
        "a = 4.05  # fcc lattice parameter\n",
        "b = a / 2\n",
        "bulk = Atoms('Al',\n",
        "             cell=[[0, b, b],\n",
        "                   [b, 0, b],\n",
        "                   [b, b, 0]],\n",
        "             pbc=True)\n",
        "\n",
        "k = 4\n",
        "calc = GPAW(mode=PW(300),       # cutoff\n",
        "            kpts=(k, k, k),     # k-points\n",
        "            txt=name + '.txt')  # output file\n",
        "\n",
        "bulk.calc = calc\n",
        "\n",
        "energy = bulk.get_potential_energy()\n",
        "calc.write(name + '.gpw')\n",
        "print('Energy:', energy, 'eV')"
      ],
      "metadata": {
        "id": "Rln_FuTwSx1I",
        "outputId": "c2c01543-cfea-4478-f715-ad6f371b14dc",
        "colab": {
          "base_uri": "https://localhost:8080/"
        }
      },
      "execution_count": null,
      "outputs": [
        {
          "output_type": "stream",
          "name": "stdout",
          "text": [
            "Energy: -4.122151616078063 eV\n"
          ]
        }
      ]
    },
    {
      "cell_type": "code",
      "source": [
        "visual(bulk)"
      ],
      "metadata": {
        "id": "XRXfsj0k_NVI",
        "outputId": "389b1b4d-895c-4a5a-8b2f-fcb94e272d8f",
        "colab": {
          "base_uri": "https://localhost:8080/",
          "height": 217
        }
      },
      "execution_count": null,
      "outputs": [
        {
          "output_type": "display_data",
          "data": {
            "text/plain": [
              "<PIL.Image.Image image mode=RGBA size=200x200>"
            ],
            "image/png": "[encoded data removed]"
          },
          "metadata": {}
        }
      ]
    },
    {
      "cell_type": "code",
      "source": [
        "import time\n",
        "import numpy as np\n",
        "import matplotlib.pyplot as plt\n",
        "import pandas as pd\n",
        "from ase import Atoms\n",
        "from gpaw import GPAW, PW\n",
        "\n",
        "# Testing k-points\n",
        "k_values = [2, 4, 6, 8, 10]  # Different k-point grids to test\n",
        "energies_k = []\n",
        "times_k = []\n",
        "\n",
        "a = 4.05  # fcc lattice parameter\n",
        "b = a / 2\n",
        "\n",
        "# Loop over different k-points\n",
        "for k in k_values:\n",
        "    # Define the bulk FCC structure\n",
        "    bulk = Atoms('Al',\n",
        "                 cell=[[0, b, b],\n",
        "                       [b, 0, b],\n",
        "                       [b, b, 0]],\n",
        "                 pbc=True)\n",
        "\n",
        "    # Set up the GPAW calculator\n",
        "    calc = GPAW(mode=PW(300),  # Fixed cutoff energy\n",
        "                kpts=(k, k, k),  # Varying k-points\n",
        "                txt=f'Al-fcc-k{k}.txt')\n",
        "\n",
        "    # Attach the calculator to the bulk structure\n",
        "    bulk.calc = calc\n",
        "\n",
        "    # Start timing\n",
        "    start_time = time.time()\n",
        "\n",
        "    # Calculate the potential energy\n",
        "    energy = bulk.get_potential_energy()\n",
        "\n",
        "    # End timing\n",
        "    end_time = time.time()\n",
        "\n",
        "    # Calculate the elapsed time\n",
        "    elapsed_time = end_time - start_time\n",
        "\n",
        "    # Store the energy and time\n",
        "    energies_k.append(energy)\n",
        "    times_k.append(elapsed_time)\n",
        "\n",
        "    # Save the calculator state\n",
        "    calc.write(f'Al-fcc-k{k}.gpw')\n",
        "    del bulk.calc  # Clean up\n",
        "\n",
        "# Plot k-points vs. energy\n",
        "plt.figure()\n",
        "plt.plot(k_values, energies_k, marker='o', linestyle='-')\n",
        "plt.xlabel('K-points')\n",
        "plt.ylabel('Energy (eV)')\n",
        "plt.title('Energy vs. K-points')\n",
        "plt.grid()\n",
        "plt.show()\n",
        "\n",
        "# Create a DataFrame for the time taken for different k-points\n",
        "time_k_table = pd.DataFrame({'K-points': k_values, 'Time (s)': times_k})\n",
        "print(time_k_table)\n",
        "\n",
        "# Testing plane-wave cutoff energies\n",
        "pw_values = np.linspace(200, 600, 5)  # Different PW values to test\n",
        "energies_pw = []\n",
        "times_pw = []\n",
        "\n",
        "# Loop over different PW cutoff energies\n",
        "for pw in pw_values:\n",
        "    # Define the bulk FCC structure\n",
        "    bulk = Atoms('Al',\n",
        "                 cell=[[0, b, b],\n",
        "                       [b, 0, b],\n",
        "                       [b, b, 0]],\n",
        "                 pbc=True)\n",
        "\n",
        "    # Set up the GPAW calculator\n",
        "    calc = GPAW(mode=PW(pw),  # Varying cutoff energy\n",
        "                kpts=(4, 4, 4),  # Fixed k-points\n",
        "                txt=f'Al-fcc-pw{pw:.0f}.txt')\n",
        "\n",
        "    # Attach the calculator to the bulk structure\n",
        "    bulk.calc = calc\n",
        "\n",
        "    # Start timing\n",
        "    start_time = time.time()\n",
        "\n",
        "    # Calculate the potential energy\n",
        "    energy = bulk.get_potential_energy()\n",
        "\n",
        "    # End timing\n",
        "    end_time = time.time()\n",
        "\n",
        "    # Calculate the elapsed time\n",
        "    elapsed_time = end_time - start_time\n",
        "\n",
        "    # Store the energy and time\n",
        "    energies_pw.append(energy)\n",
        "    times_pw.append(elapsed_time)\n",
        "\n",
        "    # Save the calculator state\n",
        "    calc.write(f'Al-fcc-pw{pw:.0f}.gpw')\n",
        "    del bulk.calc  # Clean up\n",
        "\n",
        "# Plot PW values vs. energy\n",
        "plt.figure()\n",
        "plt.plot(pw_values, energies_pw, marker='o', linestyle='-')\n",
        "plt.xlabel('PW Cutoff (eV)')\n",
        "plt.ylabel('Energy (eV)')\n",
        "plt.title('Energy vs. PW Cutoff')\n",
        "plt.grid()\n",
        "plt.show()\n",
        "\n",
        "# Create a DataFrame for the time taken for different PW values\n",
        "time_pw_table = pd.DataFrame({'PW Cutoff (eV)': pw_values, 'Time (s)': times_pw})\n",
        "print(time_pw_table)\n"
      ],
      "metadata": {
        "id": "_3dnl_kpWufR"
      },
      "execution_count": null,
      "outputs": []
    },
    {
      "cell_type": "code",
      "source": [
        "import numpy as np\n",
        "import matplotlib.pyplot as plt\n",
        "from ase import Atoms\n",
        "from gpaw import GPAW, PW\n",
        "\n",
        "# Set up values for lattice parameter 'a'\n",
        "a_values = np.linspace(3.8, 4.2, 10)  # Adjust the range and number of points as needed\n",
        "energies = []\n",
        "volumes = []\n",
        "\n",
        "# Loop over each lattice parameter to calculate energy\n",
        "for a in a_values:\n",
        "    b = a / 2\n",
        "    # Define the bulk structure\n",
        "    bulk = Atoms('Al',\n",
        "                 cell=[[0, b, b],\n",
        "                       [b, 0, b],\n",
        "                       [b, b, 0]],\n",
        "                 pbc=True)\n",
        "\n",
        "    # Set up the calculator\n",
        "    k = 4\n",
        "    calc = GPAW(mode=PW(300),       # Plane-wave cutoff\n",
        "                kpts=(k, k, k),     # k-points grid\n",
        "                txt=f'Al-fcc-a{a:.2f}.txt')  # Output file with varying name\n",
        "\n",
        "    # Attach the calculator to the bulk structure\n",
        "    bulk.calc = calc\n",
        "\n",
        "    # Calculate the potential energy\n",
        "    energy = bulk.get_potential_energy()\n",
        "    volume = bulk.get_volume()\n",
        "\n",
        "    # Store the energy and volume\n",
        "    energies.append(energy)\n",
        "    volumes.append(volume)\n",
        "\n",
        "    # Clean up the calculator\n",
        "    calc.write(f'Al-fcc-a{a:.2f}.gpw')\n",
        "    del bulk.calc  # Free memory\n",
        "\n",
        "# Plot EOS: Energy vs. Volume\n",
        "plt.figure()\n",
        "plt.plot(volumes, energies, marker='o', linestyle='-')\n",
        "plt.xlabel('Volume (Å³)')\n",
        "plt.ylabel('Energy (eV)')\n",
        "plt.title('Equation of State for Al (FCC)')\n",
        "plt.grid()\n",
        "plt.show()\n"
      ],
      "metadata": {
        "id": "M2Nq8JlgUT5h"
      },
      "execution_count": null,
      "outputs": []
    },
    {
      "cell_type": "markdown",
      "source": [
        "slab"
      ],
      "metadata": {
        "id": "0SDUKPS1YZ42"
      }
    },
    {
      "cell_type": "code",
      "source": [
        "import os\n",
        "import shutil\n",
        "from ase.io import write  # Import the write function from ASE\n",
        "from PIL import Image\n",
        "from IPython.display import display  # Import display for Jupyter Notebooks\n",
        "\n",
        "\n",
        "def visual(structure, max_size=(100, 100), stretch_y=1.0, rotation='15z,-90x', png_save_path='./'):\n",
        "    renderer = write('./temp.pov', structure, rotation=rotation)\n",
        "    renderer.render()\n",
        "    image_path = './temp.png'\n",
        "\n",
        "    # Calculate new size with stretch factor\n",
        "    new_size = (max_size[0], int(max_size[1] * stretch_y))\n",
        "    img = img.resize(new_size, Image.LANCZOS)\n",
        "    display(img)\n",
        "    # Move files to output directory\n",
        "    files = ['./temp.ini', './temp.pov', './temp.png']\n",
        "    destination = './output/'\n",
        "\n",
        "    # Ensure destination directory exists\n",
        "    os.makedirs(destination, exist_ok=True)\n",
        "\n",
        "    for file in files:\n",
        "        # Remove the file in the destination directory if it exists\n",
        "        if os.path.isfile(os.path.join(destination, os.path.basename(file))):\n",
        "            os.remove(os.path.join(destination, os.path.basename(file)))\n",
        "\n",
        "        if file == './temp.png':\n",
        "            new_file_name = png_save_path + f'temp.png'\n",
        "        else:\n",
        "            new_file_name = os.path.basename(file)\n",
        "        shutil.move(file, os.path.join(destination, new_file_name))\n"
      ],
      "metadata": {
        "id": "8uDNz1BIYqB8"
      },
      "execution_count": null,
      "outputs": []
    },
    {
      "cell_type": "code",
      "source": [
        "visual(bulk,(300,300))\n",
        "repeat=(4,4,4)\n",
        "visual(bulk*repeat,(300,300))"
      ],
      "metadata": {
        "id": "STIB4esNYxCM"
      },
      "execution_count": null,
      "outputs": []
    },
    {
      "cell_type": "code",
      "source": [
        "import time  # Import the time module\n",
        "from ase.build import fcc100\n",
        "from gpaw import GPAW\n",
        "\n",
        "# Initialize the parameters\n",
        "k = 1\n",
        "N = 4\n",
        "size = 2\n",
        "# Create the slab\n",
        "fcc = fcc100('Al', (size, size, N), a=4, vacuum=7.5)\n",
        "fcc.center(axis=2)\n",
        "\n",
        "# Set up the GPAW calculator\n",
        "calc = GPAW(mode='fd',\n",
        "            nbands=N * 3 * size**2,\n",
        "            kpts=(k, k, 1),\n",
        "            h=0.25,\n",
        "            txt='slab-%d.txt' % N)\n",
        "\n",
        "# Attach the calculator to the slab\n",
        "fcc.calc = calc\n",
        "\n",
        "# Start timing\n",
        "start_time = time.time()\n",
        "\n",
        "# Run the calculation to get the potential energy\n",
        "e = fcc.get_potential_energy()\n",
        "\n",
        "# End timing\n",
        "end_time = time.time()\n",
        "\n",
        "# Calculate the elapsed time\n",
        "elapsed_time = end_time - start_time\n",
        "\n",
        "# Save the calculator state\n",
        "calc.write('slab-%d.gpw' % N)\n",
        "\n",
        "# Print the energy and the elapsed time\n",
        "print(f'Potential Energy: {e} eV')\n",
        "print(f'Time taken: {elapsed_time:.2f} seconds')\n"
      ],
      "metadata": {
        "id": "FDTqLjs-Tbn1"
      },
      "execution_count": null,
      "outputs": []
    }
  ]
}