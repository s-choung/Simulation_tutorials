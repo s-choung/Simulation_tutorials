{
  "nbformat": 4,
  "nbformat_minor": 0,
  "metadata": {
    "colab": {
      "provenance": [],
      "authorship_tag": "ABX9TyMh/a2ZBe4KyR+d1BkALSM/",
      "include_colab_link": true
    },
    "kernelspec": {
      "name": "python3",
      "display_name": "Python 3"
    },
    "language_info": {
      "name": "python"
    }
  },
  "cells": [
    {
      "cell_type": "markdown",
      "metadata": {
        "id": "view-in-github",
        "colab_type": "text"
      },
      "source": [
        "<a href=\"https://colab.research.google.com/github/s-choung/Simulation_tutorials/blob/main/handson_DFT_setup_and_bulk.ipynb\" target=\"_parent\"><img src=\"https://colab.research.google.com/assets/colab-badge.svg\" alt=\"Open In Colab\"/></a>"
      ]
    },
    {
      "cell_type": "markdown",
      "source": [
        "## Density Functional Theory in Catalyst Research\n",
        "\n",
        "The urgent need to combat climate change has increased the focus on renewable energy sources, aiming to reduce reliance on fossil fuels and mitigate environmental harm. Efficient catalysts are essential for accelerating chemical reactions, lowering energy consumption, and improving production efficiency. Density Functional Theory (DFT) allows for the simulation of electron density around atomic nuclei by approximating the Schrödinger equation. This facilitates the prediction of catalyst properties, including active sites, adsorbate interactions, and electronic structures, driving more efficient and predictive catalyst design.\n",
        "\n",
        "*Choung et al., Chemical Engineering Journal 494, 2024, 152757*\n"
      ],
      "metadata": {
        "id": "Bk5Cmvws6UJY"
      }
    },
    {
      "cell_type": "markdown",
      "source": [
        "## The grid-based projector-augmented wave (GPAW) code\n",
        "GPAW is a density-functional theory (DFT) Python code based on the projector-augmented wave (PAW) method and the atomic simulation environment (ASE).  GPAW is open-source Python package for electronic structure calculations. GPAW is based on the projector-augmented wave method and can solve the self-consistent DFT equations using three different wave-function representations, namely real-space grids, plane waves, and numerical atomic orbitals."
      ],
      "metadata": {
        "id": "CzINxNUm6jNc"
      }
    },
    {
      "cell_type": "markdown",
      "source": [
        "- **`python3-dev`**: Provides header files needed to compile Python extensions for `gpaw`'s high-performance computations.\n",
        "- **`libopenblas-dev`**: Optimized library for linear algebra operations like matrix multiplication, ensuring efficient performance in `gpaw`.\n",
        "- **`liblapack-dev`**: Another essential library for linear algebra tasks such as solving equations and eigenvalue problems.\n",
        "- **`libfftw3-dev`**: Library for Fast Fourier Transform (FFT), used in electronic structure calculations to handle problems in reciprocal space.\n",
        "- **`libxc-dev`**: Provides exchange-correlation functionals required for Density Functional Theory (DFT) calculations in `gpaw`.\n"
      ],
      "metadata": {
        "id": "gzkW7BA9-Ohz"
      }
    },
    {
      "cell_type": "code",
      "source": [
        "!apt-get update\n",
        "!apt-get install -y python3-dev libopenblas-dev liblapack-dev libfftw3-dev libxc-dev"
      ],
      "metadata": {
        "colab": {
          "base_uri": "https://localhost:8080/"
        },
        "id": "S3Xg9Ezw2x9G",
        "outputId": "fbd40b7e-2307-4b14-8b6b-9cf09d505350"
      },
      "execution_count": 12,
      "outputs": [
        {
          "output_type": "stream",
          "name": "stdout",
          "text": [
            "\r0% [Working]\r            \rHit:1 http://security.ubuntu.com/ubuntu jammy-security InRelease\n",
            "\r0% [Waiting for headers] [Connecting to cloud.r-project.org] [Connecting to r2u.stat.illinois.edu (1\r                                                                                                    \rHit:2 http://archive.ubuntu.com/ubuntu jammy InRelease\n",
            "\r0% [Waiting for headers] [Connecting to cloud.r-project.org] [Connected to r2u.stat.illinois.edu (19\r                                                                                                    \rHit:3 http://archive.ubuntu.com/ubuntu jammy-updates InRelease\n",
            "\r0% [Connecting to cloud.r-project.org (108.138.128.44)] [Connected to r2u.stat.illinois.edu (192.17.\r                                                                                                    \rHit:4 http://archive.ubuntu.com/ubuntu jammy-backports InRelease\n",
            "\r0% [Connected to cloud.r-project.org (108.138.128.44)] [Connected to r2u.stat.illinois.edu (192.17.1\r                                                                                                    \rHit:5 https://developer.download.nvidia.com/compute/cuda/repos/ubuntu2204/x86_64  InRelease\n",
            "\r0% [Connected to cloud.r-project.org (108.138.128.44)] [Connected to r2u.stat.illinois.edu (192.17.1\r                                                                                                    \rHit:6 https://cloud.r-project.org/bin/linux/ubuntu jammy-cran40/ InRelease\n",
            "\r                                                                                                    \r0% [Waiting for headers] [Connected to ppa.launchpadcontent.net (185.125.190.80)]\r                                                                                 \rIgn:7 https://r2u.stat.illinois.edu/ubuntu jammy InRelease\n",
            "Hit:8 https://r2u.stat.illinois.edu/ubuntu jammy Release\n",
            "Hit:9 https://ppa.launchpadcontent.net/deadsnakes/ppa/ubuntu jammy InRelease\n",
            "Hit:10 https://ppa.launchpadcontent.net/graphics-drivers/ppa/ubuntu jammy InRelease\n",
            "Hit:11 https://ppa.launchpadcontent.net/ubuntugis/ppa/ubuntu jammy InRelease\n",
            "Reading package lists... Done\n",
            "W: Skipping acquire of configured file 'main/source/Sources' as repository 'https://r2u.stat.illinois.edu/ubuntu jammy InRelease' does not seem to provide it (sources.list entry misspelt?)\n",
            "Reading package lists... Done\n",
            "Building dependency tree... Done\n",
            "Reading state information... Done\n",
            "libfftw3-dev is already the newest version (3.3.8-2ubuntu8).\n",
            "liblapack-dev is already the newest version (3.10.0-2ubuntu1).\n",
            "libopenblas-dev is already the newest version (0.3.20+ds-1).\n",
            "libxc-dev is already the newest version (5.1.7-1ubuntu1).\n",
            "python3-dev is already the newest version (3.10.6-1~22.04.1).\n",
            "0 upgraded, 0 newly installed, 0 to remove and 49 not upgraded.\n"
          ]
        }
      ]
    },
    {
      "cell_type": "code",
      "source": [
        "!pip install gpaw"
      ],
      "metadata": {
        "colab": {
          "base_uri": "https://localhost:8080/"
        },
        "id": "UIZDhutO2lK3",
        "outputId": "3bc68fde-e699-4669-c8eb-4f951925f335"
      },
      "execution_count": 13,
      "outputs": [
        {
          "output_type": "stream",
          "name": "stdout",
          "text": [
            "Requirement already satisfied: gpaw in /usr/local/lib/python3.10/dist-packages (24.6.0)\n",
            "Requirement already satisfied: ase>=3.23.0 in /usr/local/lib/python3.10/dist-packages (from gpaw) (3.23.0)\n",
            "Requirement already satisfied: numpy<2 in /usr/local/lib/python3.10/dist-packages (from gpaw) (1.26.4)\n",
            "Requirement already satisfied: scipy>=1.6.0 in /usr/local/lib/python3.10/dist-packages (from gpaw) (1.13.1)\n",
            "Requirement already satisfied: matplotlib>=3.3.4 in /usr/local/lib/python3.10/dist-packages (from ase>=3.23.0->gpaw) (3.7.1)\n",
            "Requirement already satisfied: contourpy>=1.0.1 in /usr/local/lib/python3.10/dist-packages (from matplotlib>=3.3.4->ase>=3.23.0->gpaw) (1.3.0)\n",
            "Requirement already satisfied: cycler>=0.10 in /usr/local/lib/python3.10/dist-packages (from matplotlib>=3.3.4->ase>=3.23.0->gpaw) (0.12.1)\n",
            "Requirement already satisfied: fonttools>=4.22.0 in /usr/local/lib/python3.10/dist-packages (from matplotlib>=3.3.4->ase>=3.23.0->gpaw) (4.53.1)\n",
            "Requirement already satisfied: kiwisolver>=1.0.1 in /usr/local/lib/python3.10/dist-packages (from matplotlib>=3.3.4->ase>=3.23.0->gpaw) (1.4.7)\n",
            "Requirement already satisfied: packaging>=20.0 in /usr/local/lib/python3.10/dist-packages (from matplotlib>=3.3.4->ase>=3.23.0->gpaw) (24.1)\n",
            "Requirement already satisfied: pillow>=6.2.0 in /usr/local/lib/python3.10/dist-packages (from matplotlib>=3.3.4->ase>=3.23.0->gpaw) (10.4.0)\n",
            "Requirement already satisfied: pyparsing>=2.3.1 in /usr/local/lib/python3.10/dist-packages (from matplotlib>=3.3.4->ase>=3.23.0->gpaw) (3.1.4)\n",
            "Requirement already satisfied: python-dateutil>=2.7 in /usr/local/lib/python3.10/dist-packages (from matplotlib>=3.3.4->ase>=3.23.0->gpaw) (2.8.2)\n",
            "Requirement already satisfied: six>=1.5 in /usr/local/lib/python3.10/dist-packages (from python-dateutil>=2.7->matplotlib>=3.3.4->ase>=3.23.0->gpaw) (1.16.0)\n"
          ]
        }
      ]
    },
    {
      "cell_type": "code",
      "source": [
        "!gpaw test"
      ],
      "metadata": {
        "colab": {
          "base_uri": "https://localhost:8080/"
        },
        "id": "WnJ9QX-P1kww",
        "outputId": "3bdd37f4-9dac-4d4b-820b-8e114e0b48ac"
      },
      "execution_count": 14,
      "outputs": [
        {
          "output_type": "stream",
          "name": "stdout",
          "text": [
            " -------------------------------------------------------------------------------------------------\n",
            "| python-3.10.12    /usr/bin/python3                                                              |\n",
            "| gpaw-24.6.0       /usr/local/lib/python3.10/dist-packages/gpaw/                                 |\n",
            "| ase-3.23.0        /usr/local/lib/python3.10/dist-packages/ase/                                  |\n",
            "| numpy-1.26.4      /usr/local/lib/python3.10/dist-packages/numpy/                                |\n",
            "| scipy-1.13.1      /usr/local/lib/python3.10/dist-packages/scipy/                                |\n",
            "| libxc-5.1.7       yes                                                                           |\n",
            "| _gpaw             /usr/local/lib/python3.10/dist-packages/_gpaw.cpython-310-x86_64-linux-gnu.so |\n",
            "| MPI enabled       yes                                                                           |\n",
            "| OpenMP enabled    no                                                                            |\n",
            "| GPU enabled       no                                                                            |\n",
            "| GPU-aware MPI     no                                                                            |\n",
            "| CUPY              /usr/local/lib/python3.10/dist-packages/gpaw/gpu/cpupy/__init__.py            |\n",
            "| scalapack         no                                                                            |\n",
            "| Elpa              no                                                                            |\n",
            "| FFTW              no                                                                            |\n",
            "| libvdwxc          no                                                                            |\n",
            "| PAW-datasets (1)  /content/gpaw-setups-24.1.0                                                   |\n",
            "| PAW-datasets (2)  /content/gpaw-setups-24.1.0                                                   |\n",
            " -------------------------------------------------------------------------------------------------\n",
            "Doing a test calculation (cores: 1): ... Done\n",
            "\n",
            "Test parallel calculation with \"gpaw -P 4 test\".\n"
          ]
        }
      ]
    },
    {
      "cell_type": "markdown",
      "source": [
        "## Install Pseudo potential\n",
        "\n",
        "A setup is to the PAW method what a pseudo-potential is to the pseudo-potential method.\n",
        "read more: https://gpaw.readthedocs.io/setups/setups.html"
      ],
      "metadata": {
        "id": "Cq920dYk7yz0"
      }
    },
    {
      "cell_type": "code",
      "source": [
        "!gpaw install-data ./"
      ],
      "metadata": {
        "colab": {
          "base_uri": "https://localhost:8080/"
        },
        "id": "UHzjDPwa4JFZ",
        "outputId": "4ca75acb-b3a8-4ad9-82f4-11f3653be72b"
      },
      "execution_count": null,
      "outputs": [
        {
          "output_type": "stream",
          "name": "stdout",
          "text": [
            "Available setups and pseudopotentials\n",
            "  [*] https://wiki.fysik.dtu.dk/gpaw-files/gpaw-setups-24.1.0.tar.gz\n",
            "      https://wiki.fysik.dtu.dk/gpaw-files/gpaw-setups-0.9.20000.tar.gz\n",
            "      https://wiki.fysik.dtu.dk/gpaw-files/gpaw-setups-0.9.11271.tar.gz\n",
            "      https://wiki.fysik.dtu.dk/gpaw-files/gpaw-setups-0.9.9672.tar.gz\n",
            "      https://wiki.fysik.dtu.dk/gpaw-files/gpaw-setups-0.8.7929.tar.gz\n",
            "      https://wiki.fysik.dtu.dk/gpaw-files/gpaw-setups-0.6.6300.tar.gz\n",
            "      https://wiki.fysik.dtu.dk/gpaw-files/gpaw-setups-0.5.3574.tar.gz\n",
            "\n",
            "Selected gpaw-setups-24.1.0.tar.gz.  Downloading...\n",
            "Extracting tarball into ./\n",
            "Setups installed into /content/gpaw-setups-24.1.0.\n",
            "Register this setup path in /root/.gpaw/rc.py? [y/n] "
          ]
        }
      ]
    },
    {
      "cell_type": "code",
      "source": [
        "import os\n",
        "import gzip\n",
        "import shutil\n",
        "\n",
        "# Define the path to the setup files\n",
        "setup_path = '/content/gpaw-setups-24.1.0'\n",
        "\n",
        "# Uncompress all .gz files in the setup directory\n",
        "for filename in os.listdir(setup_path):\n",
        "    if filename.endswith('.gz'):\n",
        "        filepath = os.path.join(setup_path, filename)\n",
        "        with gzip.open(filepath, 'rb') as f_in:\n",
        "            with open(filepath[:-3], 'wb') as f_out:\n",
        "                shutil.copyfileobj(f_in, f_out)\n",
        "\n",
        "# List the files after uncompressing to ensure the process completed successfully\n",
        "print(\"Files in setup directory after uncompressing:\", os.listdir(setup_path))\n",
        "\n",
        "# Set the GPAW_SETUP_PATH environment variable\n",
        "os.environ['GPAW_SETUP_PATH'] = setup_path\n",
        "\n",
        "# Verify the environment variable\n",
        "print(\"GPAW_SETUP_PATH:\", os.environ['GPAW_SETUP_PATH'])\n",
        "\n"
      ],
      "metadata": {
        "id": "ZOhRvZ2n59zU"
      },
      "execution_count": null,
      "outputs": []
    },
    {
      "cell_type": "markdown",
      "source": [
        "\n",
        "## Atomic Simulation Environment (ASE)\n",
        "GPAW is well integrated with the Atomic Simulation Environment (ASE), providing a flexible and dynamic user interface"
      ],
      "metadata": {
        "id": "mqU27ehf7qRm"
      }
    },
    {
      "cell_type": "code",
      "source": [
        "!pip install ase"
      ],
      "metadata": {
        "id": "mz2-d8hn7uz0"
      },
      "execution_count": null,
      "outputs": []
    },
    {
      "cell_type": "code",
      "source": [
        "# Import ASE and GPAW and run your calculation\n",
        "from ase import Atoms\n",
        "from gpaw import GPAW\n",
        "\n",
        "# Define the atomic structure\n",
        "d = 0.74\n",
        "a = 6.0\n",
        "\n",
        "h2 = Atoms('H2',\n",
        "              positions=[(0, 0, 0),\n",
        "                         (0, 0, d)],\n",
        "              cell=(a, a, a))\n",
        "h2.center()\n",
        "# Initialize GPAW calculator without specifying the 'setups' parameter\n",
        "calc = GPAW(mode='fd', nbands=2, txt='h2.txt')\n",
        "h2.calc = calc\n",
        "\n",
        "# Run the calculation\n",
        "print(\"Forces on atoms:\", h2.get_forces())\n",
        "print(\"Energies on atoms:\", h2.get_total_energy())\n"
      ],
      "metadata": {
        "id": "H62nbAHQ3gbP"
      },
      "execution_count": null,
      "outputs": []
    },
    {
      "cell_type": "markdown",
      "source": [
        "## Install POVRAY: visualization of atoms\n",
        "\n",
        "The Persistence of Vision Ray Tracer, most commonly acronymed as POV-Ray, is a cross-platform ray-tracing program that generates images from a text-based scene description."
      ],
      "metadata": {
        "id": "x-D3qC5T8dYY"
      }
    },
    {
      "cell_type": "code",
      "source": [
        "!sudo apt-get install povray  ## visulization program"
      ],
      "metadata": {
        "id": "wCO1NkAB8cDS"
      },
      "execution_count": null,
      "outputs": []
    },
    {
      "cell_type": "code",
      "source": [
        "import os\n",
        "import shutil\n",
        "from ase.io import write  # Import the write function from ASE\n",
        "from PIL import Image\n",
        "from IPython.display import display  # Import display for Jupyter Notebooks\n",
        "\n",
        "\n",
        "def visual(structure, max_size=(200, 200), stretch_y=1.0, rotation='15z,-90x', png_save_path='./'):\n",
        "    renderer = write('./temp.pov', structure, rotation=rotation)\n",
        "    renderer.render()\n",
        "    image_path = './temp.png'\n",
        "    img = Image.open(image_path)\n",
        "\n",
        "    # Calculate new size with stretch factor\n",
        "    new_size = (max_size[0], int(max_size[1] * stretch_y))\n",
        "    img = img.resize(new_size, Image.LANCZOS)\n",
        "    display(img)\n",
        "\n",
        "    # Move files to output directory\n",
        "    files = ['./temp.ini', './temp.pov', './temp.png']\n",
        "    destination = './output/'\n",
        "\n",
        "    # Ensure destination directory exists\n",
        "    os.makedirs(destination, exist_ok=True)\n",
        "\n",
        "    for file in files:\n",
        "        # Remove the file in the destination directory if it exists\n",
        "        if os.path.isfile(os.path.join(destination, os.path.basename(file))):\n",
        "            os.remove(os.path.join(destination, os.path.basename(file)))\n",
        "\n",
        "        if file == './temp.png':\n",
        "            new_file_name = png_save_path + f'temp.png'\n",
        "        else:\n",
        "            new_file_name = os.path.basename(file)\n",
        "        shutil.move(file, os.path.join(destination, new_file_name))\n"
      ],
      "metadata": {
        "id": "RmmT60Pz85A3"
      },
      "execution_count": null,
      "outputs": []
    },
    {
      "cell_type": "code",
      "source": [
        "visual(bulk,(300,300))"
      ],
      "metadata": {
        "id": "j71FXOke9R0j"
      },
      "execution_count": null,
      "outputs": []
    },
    {
      "cell_type": "markdown",
      "source": [
        "## Bulk Calculations"
      ],
      "metadata": {
        "id": "6PWGPwCc86Ug"
      }
    },
    {
      "cell_type": "code",
      "source": [
        "\"\"\"Bulk Al(fcc) test\"\"\"\n",
        "from ase import Atoms\n",
        "from ase.visualize import view\n",
        "from gpaw import GPAW, PW\n",
        "\n",
        "name = 'Al-fcc'\n",
        "a = 4.05  # fcc lattice parameter\n",
        "b = a / 2\n",
        "bulk = Atoms('Al',\n",
        "             cell=[[0, b, b],\n",
        "                   [b, 0, b],\n",
        "                   [b, b, 0]],\n",
        "             pbc=True)\n",
        "\n",
        "k = 4\n",
        "calc = GPAW(mode=PW(300),       # cutoff\n",
        "            kpts=(k, k, k),     # k-points\n",
        "            txt=name + '.txt')  # output file\n",
        "\n",
        "bulk.calc = calc\n",
        "\n",
        "energy = bulk.get_potential_energy()\n",
        "calc.write(name + '.gpw')\n",
        "print('Energy:', energy, 'eV')"
      ],
      "metadata": {
        "id": "Rln_FuTwSx1I"
      },
      "execution_count": null,
      "outputs": []
    },
    {
      "cell_type": "code",
      "source": [
        "import time\n",
        "import numpy as np\n",
        "import matplotlib.pyplot as plt\n",
        "import pandas as pd\n",
        "from ase import Atoms\n",
        "from gpaw import GPAW, PW\n",
        "\n",
        "# Testing k-points\n",
        "k_values = [2, 4, 6, 8, 10]  # Different k-point grids to test\n",
        "energies_k = []\n",
        "times_k = []\n",
        "\n",
        "a = 4.05  # fcc lattice parameter\n",
        "b = a / 2\n",
        "\n",
        "# Loop over different k-points\n",
        "for k in k_values:\n",
        "    # Define the bulk FCC structure\n",
        "    bulk = Atoms('Al',\n",
        "                 cell=[[0, b, b],\n",
        "                       [b, 0, b],\n",
        "                       [b, b, 0]],\n",
        "                 pbc=True)\n",
        "\n",
        "    # Set up the GPAW calculator\n",
        "    calc = GPAW(mode=PW(300),  # Fixed cutoff energy\n",
        "                kpts=(k, k, k),  # Varying k-points\n",
        "                txt=f'Al-fcc-k{k}.txt')\n",
        "\n",
        "    # Attach the calculator to the bulk structure\n",
        "    bulk.calc = calc\n",
        "\n",
        "    # Start timing\n",
        "    start_time = time.time()\n",
        "\n",
        "    # Calculate the potential energy\n",
        "    energy = bulk.get_potential_energy()\n",
        "\n",
        "    # End timing\n",
        "    end_time = time.time()\n",
        "\n",
        "    # Calculate the elapsed time\n",
        "    elapsed_time = end_time - start_time\n",
        "\n",
        "    # Store the energy and time\n",
        "    energies_k.append(energy)\n",
        "    times_k.append(elapsed_time)\n",
        "\n",
        "    # Save the calculator state\n",
        "    calc.write(f'Al-fcc-k{k}.gpw')\n",
        "    del bulk.calc  # Clean up\n",
        "\n",
        "# Plot k-points vs. energy\n",
        "plt.figure()\n",
        "plt.plot(k_values, energies_k, marker='o', linestyle='-')\n",
        "plt.xlabel('K-points')\n",
        "plt.ylabel('Energy (eV)')\n",
        "plt.title('Energy vs. K-points')\n",
        "plt.grid()\n",
        "plt.show()\n",
        "\n",
        "# Create a DataFrame for the time taken for different k-points\n",
        "time_k_table = pd.DataFrame({'K-points': k_values, 'Time (s)': times_k})\n",
        "print(time_k_table)\n",
        "\n",
        "# Testing plane-wave cutoff energies\n",
        "pw_values = np.linspace(200, 600, 5)  # Different PW values to test\n",
        "energies_pw = []\n",
        "times_pw = []\n",
        "\n",
        "# Loop over different PW cutoff energies\n",
        "for pw in pw_values:\n",
        "    # Define the bulk FCC structure\n",
        "    bulk = Atoms('Al',\n",
        "                 cell=[[0, b, b],\n",
        "                       [b, 0, b],\n",
        "                       [b, b, 0]],\n",
        "                 pbc=True)\n",
        "\n",
        "    # Set up the GPAW calculator\n",
        "    calc = GPAW(mode=PW(pw),  # Varying cutoff energy\n",
        "                kpts=(4, 4, 4),  # Fixed k-points\n",
        "                txt=f'Al-fcc-pw{pw:.0f}.txt')\n",
        "\n",
        "    # Attach the calculator to the bulk structure\n",
        "    bulk.calc = calc\n",
        "\n",
        "    # Start timing\n",
        "    start_time = time.time()\n",
        "\n",
        "    # Calculate the potential energy\n",
        "    energy = bulk.get_potential_energy()\n",
        "\n",
        "    # End timing\n",
        "    end_time = time.time()\n",
        "\n",
        "    # Calculate the elapsed time\n",
        "    elapsed_time = end_time - start_time\n",
        "\n",
        "    # Store the energy and time\n",
        "    energies_pw.append(energy)\n",
        "    times_pw.append(elapsed_time)\n",
        "\n",
        "    # Save the calculator state\n",
        "    calc.write(f'Al-fcc-pw{pw:.0f}.gpw')\n",
        "    del bulk.calc  # Clean up\n",
        "\n",
        "# Plot PW values vs. energy\n",
        "plt.figure()\n",
        "plt.plot(pw_values, energies_pw, marker='o', linestyle='-')\n",
        "plt.xlabel('PW Cutoff (eV)')\n",
        "plt.ylabel('Energy (eV)')\n",
        "plt.title('Energy vs. PW Cutoff')\n",
        "plt.grid()\n",
        "plt.show()\n",
        "\n",
        "# Create a DataFrame for the time taken for different PW values\n",
        "time_pw_table = pd.DataFrame({'PW Cutoff (eV)': pw_values, 'Time (s)': times_pw})\n",
        "print(time_pw_table)\n"
      ],
      "metadata": {
        "id": "_3dnl_kpWufR"
      },
      "execution_count": null,
      "outputs": []
    },
    {
      "cell_type": "code",
      "source": [
        "import numpy as np\n",
        "import matplotlib.pyplot as plt\n",
        "from ase import Atoms\n",
        "from gpaw import GPAW, PW\n",
        "\n",
        "# Set up values for lattice parameter 'a'\n",
        "a_values = np.linspace(3.8, 4.2, 10)  # Adjust the range and number of points as needed\n",
        "energies = []\n",
        "volumes = []\n",
        "\n",
        "# Loop over each lattice parameter to calculate energy\n",
        "for a in a_values:\n",
        "    b = a / 2\n",
        "    # Define the bulk structure\n",
        "    bulk = Atoms('Al',\n",
        "                 cell=[[0, b, b],\n",
        "                       [b, 0, b],\n",
        "                       [b, b, 0]],\n",
        "                 pbc=True)\n",
        "\n",
        "    # Set up the calculator\n",
        "    k = 4\n",
        "    calc = GPAW(mode=PW(300),       # Plane-wave cutoff\n",
        "                kpts=(k, k, k),     # k-points grid\n",
        "                txt=f'Al-fcc-a{a:.2f}.txt')  # Output file with varying name\n",
        "\n",
        "    # Attach the calculator to the bulk structure\n",
        "    bulk.calc = calc\n",
        "\n",
        "    # Calculate the potential energy\n",
        "    energy = bulk.get_potential_energy()\n",
        "    volume = bulk.get_volume()\n",
        "\n",
        "    # Store the energy and volume\n",
        "    energies.append(energy)\n",
        "    volumes.append(volume)\n",
        "\n",
        "    # Clean up the calculator\n",
        "    calc.write(f'Al-fcc-a{a:.2f}.gpw')\n",
        "    del bulk.calc  # Free memory\n",
        "\n",
        "# Plot EOS: Energy vs. Volume\n",
        "plt.figure()\n",
        "plt.plot(volumes, energies, marker='o', linestyle='-')\n",
        "plt.xlabel('Volume (Å³)')\n",
        "plt.ylabel('Energy (eV)')\n",
        "plt.title('Equation of State for Al (FCC)')\n",
        "plt.grid()\n",
        "plt.show()\n"
      ],
      "metadata": {
        "id": "M2Nq8JlgUT5h"
      },
      "execution_count": null,
      "outputs": []
    },
    {
      "cell_type": "markdown",
      "source": [
        "slab"
      ],
      "metadata": {
        "id": "0SDUKPS1YZ42"
      }
    },
    {
      "cell_type": "code",
      "source": [
        "import os\n",
        "import shutil\n",
        "from ase.io import write  # Import the write function from ASE\n",
        "from PIL import Image\n",
        "from IPython.display import display  # Import display for Jupyter Notebooks\n",
        "\n",
        "\n",
        "def visual(structure, max_size=(100, 100), stretch_y=1.0, rotation='15z,-90x', png_save_path='./'):\n",
        "    renderer = write('./temp.pov', structure, rotation=rotation)\n",
        "    renderer.render()\n",
        "    image_path = './temp.png'\n",
        "\n",
        "    # Calculate new size with stretch factor\n",
        "    new_size = (max_size[0], int(max_size[1] * stretch_y))\n",
        "    img = img.resize(new_size, Image.LANCZOS)\n",
        "    display(img)\n",
        "    # Move files to output directory\n",
        "    files = ['./temp.ini', './temp.pov', './temp.png']\n",
        "    destination = './output/'\n",
        "\n",
        "    # Ensure destination directory exists\n",
        "    os.makedirs(destination, exist_ok=True)\n",
        "\n",
        "    for file in files:\n",
        "        # Remove the file in the destination directory if it exists\n",
        "        if os.path.isfile(os.path.join(destination, os.path.basename(file))):\n",
        "            os.remove(os.path.join(destination, os.path.basename(file)))\n",
        "\n",
        "        if file == './temp.png':\n",
        "            new_file_name = png_save_path + f'temp.png'\n",
        "        else:\n",
        "            new_file_name = os.path.basename(file)\n",
        "        shutil.move(file, os.path.join(destination, new_file_name))\n"
      ],
      "metadata": {
        "id": "8uDNz1BIYqB8"
      },
      "execution_count": null,
      "outputs": []
    },
    {
      "cell_type": "code",
      "source": [
        "visual(bulk,(300,300))\n",
        "repeat=(4,4,4)\n",
        "visual(bulk*repeat,(300,300))"
      ],
      "metadata": {
        "id": "STIB4esNYxCM"
      },
      "execution_count": null,
      "outputs": []
    },
    {
      "cell_type": "code",
      "source": [
        "import time  # Import the time module\n",
        "from ase.build import fcc100\n",
        "from gpaw import GPAW\n",
        "\n",
        "# Initialize the parameters\n",
        "k = 1\n",
        "N = 4\n",
        "size = 2\n",
        "# Create the slab\n",
        "fcc = fcc100('Al', (size, size, N), a=4, vacuum=7.5)\n",
        "fcc.center(axis=2)\n",
        "\n",
        "# Set up the GPAW calculator\n",
        "calc = GPAW(mode='fd',\n",
        "            nbands=N * 3 * size**2,\n",
        "            kpts=(k, k, 1),\n",
        "            h=0.25,\n",
        "            txt='slab-%d.txt' % N)\n",
        "\n",
        "# Attach the calculator to the slab\n",
        "fcc.calc = calc\n",
        "\n",
        "# Start timing\n",
        "start_time = time.time()\n",
        "\n",
        "# Run the calculation to get the potential energy\n",
        "e = fcc.get_potential_energy()\n",
        "\n",
        "# End timing\n",
        "end_time = time.time()\n",
        "\n",
        "# Calculate the elapsed time\n",
        "elapsed_time = end_time - start_time\n",
        "\n",
        "# Save the calculator state\n",
        "calc.write('slab-%d.gpw' % N)\n",
        "\n",
        "# Print the energy and the elapsed time\n",
        "print(f'Potential Energy: {e} eV')\n",
        "print(f'Time taken: {elapsed_time:.2f} seconds')\n"
      ],
      "metadata": {
        "id": "FDTqLjs-Tbn1"
      },
      "execution_count": null,
      "outputs": []
    }
  ]
}